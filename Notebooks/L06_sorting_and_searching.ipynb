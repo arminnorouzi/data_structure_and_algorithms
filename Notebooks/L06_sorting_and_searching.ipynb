{
 "cells": [
  {
   "attachments": {},
   "cell_type": "markdown",
   "metadata": {},
   "source": [
    "# Sorting and Searching\n",
    "\n",
    "In this notebook, we will learn about sorting algorithms in Python. Let's dive in! You can run this post in Google Colab using this link:\n",
    "\n",
    "<a href=\"https://colab.research.google.com/github/arminnorouzi/data_structure_and_algorithms/blob/main/Notebooks/L06_sorting_and_searching.ipynb\" target=\"_parent\"><img src=\"https://colab.research.google.com/assets/colab-badge.svg\" alt=\"Open In Colab\"/></a>\n"
   ]
  },
  {
   "attachments": {},
   "cell_type": "markdown",
   "metadata": {},
   "source": [
    "## 1. Bubble Sort\n",
    "\n",
    "Bubble Sort is a simple comparison-based sorting algorithm. It repeatedly steps through the list, compares adjacent elements, and swaps them if they are in the wrong order. This process is repeated until the entire list is sorted."
   ]
  },
  {
   "cell_type": "code",
   "execution_count": 32,
   "metadata": {},
   "outputs": [],
   "source": [
    "def bubble_sort(array):\n",
    "    n = len(array)\n",
    "    for i in range(n-1):\n",
    "        for j in range(n-i-1):\n",
    "            if array[j] > array[j+1]:\n",
    "                array[j], array[j+1] = array[j+1], array[j]\n",
    "    return array\n"
   ]
  },
  {
   "attachments": {},
   "cell_type": "markdown",
   "metadata": {},
   "source": [
    "**Explanation:**\n",
    "\n",
    "The bubble sort algorithm starts with the outer loop that iterates over the array to perform multiple passes. In each pass, the inner loop compares adjacent elements and swaps them if they are in the wrong order. By the end of each pass, the largest element \"bubbles\" up to its correct position at the end of the array.\n",
    "\n",
    "- The outer loop (`i`) runs from 0 to `n-2` (inclusive) because after `n-1` passes, the largest element is already in its correct position.\n",
    "- The inner loop (`j`) runs from 0 to `n-i-2` (inclusive) because the largest i elements are already sorted at the end of the array after each pass.\n",
    "- If the current element `array[j]` is greater than the next element `array[j+1]`, a swap is performed.\n",
    "- The process continues until the entire array is sorted, and no more swaps are needed.\n",
    "\n",
    "**Time and Space Complexity:**\n",
    "\n",
    "The bubble sort algorithm has a worst-case time complexity of `O(n^2)`, where n is the size of the input array. It involves nested loops, and in the worst case, it requires comparisons and swaps for every pair of elements in the array. The space complexity is `O(1)` since the algorithm uses a constant amount of additional space to perform the sorting. It does not depend on the size of the input array.\n",
    "\n",
    "**Test:**"
   ]
  },
  {
   "cell_type": "code",
   "execution_count": 33,
   "metadata": {},
   "outputs": [
    {
     "name": "stdout",
     "output_type": "stream",
     "text": [
      "Input: arr = [5, 3, 8, 2, 1]\n",
      "Output: [1, 2, 3, 5, 8]\n",
      "Input: arr = [1, 2, 3, 4, 5]\n",
      "Output: [1, 2, 3, 4, 5]\n",
      "Input: arr = [10, 5, 2, 8, 3]\n",
      "Output: [2, 3, 5, 8, 10]\n",
      "Input: arr = [9, 7, 5, 3, 1]\n",
      "Output: [1, 3, 5, 7, 9]\n"
     ]
    }
   ],
   "source": [
    "arr = [5, 3, 8, 2, 1]\n",
    "print(f\"Input: arr = {arr}\")\n",
    "print(\"Output:\", bubble_sort(arr))  # Output: [1, 2, 3, 5, 8]\n",
    "\n",
    "arr = [1, 2, 3, 4, 5]\n",
    "print(f\"Input: arr = {arr}\")\n",
    "print(\"Output:\", bubble_sort(arr))  # Output: [1, 2, 3, 4, 5]\n",
    "\n",
    "arr = [10, 5, 2, 8, 3]\n",
    "print(f\"Input: arr = {arr}\")\n",
    "print(\"Output:\", bubble_sort(arr))  # Output: [2, 3, 5, 8, 10]\n",
    "\n",
    "arr = [9, 7, 5, 3, 1]\n",
    "print(f\"Input: arr = {arr}\")\n",
    "print(\"Output:\", bubble_sort(arr))  # Output: [1, 3, 5, 7, 9]\n"
   ]
  },
  {
   "attachments": {},
   "cell_type": "markdown",
   "metadata": {},
   "source": [
    "## 2. Insertion Sort\n",
    "\n",
    "Insertion Sort is a simple comparison-based sorting algorithm. It builds the final sorted array one item at a time by iteratively inserting each element into its proper position within the already sorted part of the array."
   ]
  },
  {
   "cell_type": "code",
   "execution_count": 34,
   "metadata": {},
   "outputs": [],
   "source": [
    "def insertion_sort(array):\n",
    "    for i in range(1, len(array)):\n",
    "        j = i\n",
    "\n",
    "        while j > 0 and array[j] < array[j-1]:\n",
    "            array[j], array[j-1] = array[j-1], array[j]\n",
    "            j -= 1\n",
    "\n",
    "    return array\n"
   ]
  },
  {
   "attachments": {},
   "cell_type": "markdown",
   "metadata": {},
   "source": [
    "**Explanation:**\n",
    "\n",
    "The insertion sort algorithm starts with the outer loop that iterates from the second element to the last element of the array. It considers the current element (`array[i]`) and moves it to its correct position within the sorted part of the array on each iteration.\n",
    "- The inner loop (while loop) starts from the current element index (`j = i`) and continues moving towards the beginning of the array (`j > 0`) as long as the current element is smaller than its adjacent element (`array[j]` < `array[j-1]`).\n",
    "- In each iteration of the inner loop, if the condition is satisfied, a swap is performed to move the current element back one position.\n",
    "- The process continues until the current element is at its correct sorted position, and then the outer loop moves to the next element.\n",
    "\n",
    "**Time and space complexity:**\n",
    "\n",
    "The insertion sort algorithm has a worst-case time complexity of `O(n^2)`, where n is the size of the input array. In the worst case, for each element, it may have to traverse the entire sorted portion of the array. The space complexity is `O(1)` since the algorithm uses a constant amount of additional space to perform the sorting. It does not depend on the size of the input array.\n",
    "\n",
    "**Test:**"
   ]
  },
  {
   "cell_type": "code",
   "execution_count": 35,
   "metadata": {},
   "outputs": [
    {
     "name": "stdout",
     "output_type": "stream",
     "text": [
      "Input: arr = [5, 3, 8, 2, 1]\n",
      "Output: [1, 2, 3, 5, 8]\n",
      "Input: arr = [1, 2, 3, 4, 5]\n",
      "Output: [1, 2, 3, 4, 5]\n",
      "Input: arr = [10, 5, 2, 8, 3]\n",
      "Output: [2, 3, 5, 8, 10]\n",
      "Input: arr = [9, 7, 5, 3, 1]\n",
      "Output: [1, 3, 5, 7, 9]\n"
     ]
    }
   ],
   "source": [
    "arr = [5, 3, 8, 2, 1]\n",
    "print(f\"Input: arr = {arr}\")\n",
    "print(\"Output:\", insertion_sort(arr))  # Output: [1, 2, 3, 5, 8]\n",
    "\n",
    "arr = [1, 2, 3, 4, 5]\n",
    "print(f\"Input: arr = {arr}\")\n",
    "print(\"Output:\", insertion_sort(arr))  # Output: [1, 2, 3, 4, 5]\n",
    "\n",
    "arr = [10, 5, 2, 8, 3]\n",
    "print(f\"Input: arr = {arr}\")\n",
    "print(\"Output:\", insertion_sort(arr))  # Output: [2, 3, 5, 8, 10]\n",
    "\n",
    "arr = [9, 7, 5, 3, 1]\n",
    "print(f\"Input: arr = {arr}\")\n",
    "print(\"Output:\", insertion_sort(arr))  # Output: [1, 3, 5, 7, 9]\n"
   ]
  },
  {
   "attachments": {},
   "cell_type": "markdown",
   "metadata": {},
   "source": [
    "# 3. selection sort\n",
    "\n",
    "Selection Sort is a simple comparison-based sorting algorithm. It divides the input array into two parts: the sorted part at the beginning and the unsorted part at the end. It repeatedly selects the smallest (or largest) element from the unsorted part and swaps it with the first element of the unsorted part."
   ]
  },
  {
   "cell_type": "code",
   "execution_count": 36,
   "metadata": {},
   "outputs": [],
   "source": [
    "def selection_sort(array):\n",
    "    current_idx = 0\n",
    "    while current_idx < len(array) - 1:\n",
    "        smallest_idx = current_idx\n",
    "        for i in range(current_idx + 1, len(array)):\n",
    "            if array[i] < array[smallest_idx]:\n",
    "                smallest_idx = i\n",
    "\n",
    "        array[current_idx], array[smallest_idx] = array[smallest_idx], array[current_idx]\n",
    "        current_idx += 1\n",
    "\n",
    "    return array\n"
   ]
  },
  {
   "attachments": {},
   "cell_type": "markdown",
   "metadata": {},
   "source": [
    "**Explanation:**\n",
    "\n",
    "The selection sort algorithm starts with the outer loop that represents the boundary between the sorted and unsorted parts of the array. In each iteration, it finds the smallest element in the unsorted part and swaps it with the element at the current index.\n",
    "\n",
    "- The variable `current_idx` keeps track of the current index that separates the sorted and unsorted parts.\n",
    "- The variable `smallest_idx` is initialized to the `current_idx`, representing the index of the smallest element found so far.\n",
    "- The inner loop (`for` loop) starts from `current_idx + 1` and iterates over the remaining unsorted part of the array. It compares each element with the element at `smallest_idx` and updates `smallest_idx` if a smaller element is found.\n",
    "- After finding the smallest element, a swap is performed between the element at `current_idx` and the element at `smallest_idx`.\n",
    "- The `current_idx` is incremented, and the process continues until the entire array is sorted.\n",
    "\n",
    "**Time and space complexity:**\n",
    "\n",
    "The selection sort algorithm has a worst-case time complexity of `O(n^2)`, where n is the size of the input array. It involves nested loops, and in the worst case, it requires comparisons and swaps for every pair of elements in the array. The space complexity is `O(1)` since the algorithm uses a constant amount of additional space to perform the sorting. It does not depend on the size of the input array.\n",
    "\n",
    "\n",
    "**Test:**"
   ]
  },
  {
   "cell_type": "code",
   "execution_count": 37,
   "metadata": {},
   "outputs": [
    {
     "name": "stdout",
     "output_type": "stream",
     "text": [
      "Input: arr = [5, 3, 8, 2, 1]\n",
      "Output: [1, 2, 3, 5, 8]\n",
      "Input: arr = [1, 2, 3, 4, 5]\n",
      "Output: [1, 2, 3, 4, 5]\n",
      "Input: arr = [10, 5, 2, 8, 3]\n",
      "Output: [2, 3, 5, 8, 10]\n",
      "Input: arr = [9, 7, 5, 3, 1]\n",
      "Output: [1, 3, 5, 7, 9]\n"
     ]
    }
   ],
   "source": [
    "arr = [5, 3, 8, 2, 1]\n",
    "print(f\"Input: arr = {arr}\")\n",
    "print(\"Output:\", selection_sort(arr))  # Output: [1, 2, 3, 5, 8]\n",
    "\n",
    "arr = [1, 2, 3, 4, 5]\n",
    "print(f\"Input: arr = {arr}\")\n",
    "print(\"Output:\", selection_sort(arr))  # Output: [1, 2, 3, 4, 5]\n",
    "\n",
    "arr = [10, 5, 2, 8, 3]\n",
    "print(f\"Input: arr = {arr}\")\n",
    "print(\"Output:\", selection_sort(arr))  # Output: [2, 3, 5, 8, 10]\n",
    "\n",
    "arr = [9, 7, 5, 3, 1]\n",
    "print(f\"Input: arr = {arr}\")\n",
    "print(\"Output:\", selection_sort(arr))  # Output: [1, 3, 5, 7, 9]\n"
   ]
  },
  {
   "attachments": {},
   "cell_type": "markdown",
   "metadata": {},
   "source": [
    "## 4. Merge Sort\n",
    "\n",
    "Merge Sort is a divide-and-conquer sorting algorithm that recursively divides the input array into two halves, sorts them individually, and then merges them back into a single sorted array.\n",
    "\n",
    "Think of it as a recursive algorithm continuously splits the array in half until it cannot be further divided. This means that if the array becomes empty or has only one element left, the dividing will stop, i.e. it is the base case to stop the recursion. If the array has multiple elements, split the array into halves and recursively invoke the merge sort on each of the halves. Finally, when both halves are sorted, the merge operation is applied. Merge operation is the process of taking two smaller sorted arrays and combining them to eventually make a larger one.\n",
    "\n"
   ]
  },
  {
   "cell_type": "code",
   "execution_count": 38,
   "metadata": {},
   "outputs": [],
   "source": [
    "def merge_sort(array):\n",
    "    if len(array) <= 1:\n",
    "        return array\n",
    "\n",
    "    mid = len(array) // 2\n",
    "    left_arr = array[:mid]\n",
    "    right_arr = array[mid:]\n",
    "\n",
    "    return merge_sorted_arrays(merge_sort(left_arr), merge_sort(right_arr))\n",
    "\n",
    "\n",
    "def merge_sorted_arrays(left_arr, right_arr):\n",
    "    sorted_arr = []\n",
    "    i = j = 0\n",
    "\n",
    "    while i < len(left_arr) and j < len(right_arr):\n",
    "        if left_arr[i] <= right_arr[j]:\n",
    "            sorted_arr.append(left_arr[i])\n",
    "            i += 1\n",
    "        else:\n",
    "            sorted_arr.append(right_arr[j])\n",
    "            j += 1\n",
    "\n",
    "    sorted_arr.extend(left_arr[i:])\n",
    "    sorted_arr.extend(right_arr[j:])\n",
    "\n",
    "    return sorted_arr"
   ]
  },
  {
   "attachments": {},
   "cell_type": "markdown",
   "metadata": {},
   "source": [
    "**Explanation:**\n",
    "\n",
    "The merge sort algorithm follows a recursive divide-and-conquer approach:\n",
    "\n",
    "- The `merge_sort` function is recursively called on the left and right halves of the input array until the base case is reached (when the array has only one element).\n",
    "- The array is divided into two halves by finding the middle index (`mid`), and the left and right subarrays are created.\n",
    "- The `merge_sorted_arrays` function is responsible for merging the sorted left and right arrays into a single sorted array.\n",
    "- The merging process occurs by comparing the elements from both arrays (`left_arr` and `right_arr`) and adding the smaller element to the `sorted_arr`.\n",
    "- After exhausting one of the arrays, any remaining elements in the other array are appended to the `sorted_arr`.\n",
    "- Finally, the sorted array is returned.\n",
    "\n",
    "**Time and space complexity:**\n",
    "\n",
    "The merge sort algorithm has a worst-case time complexity of `O(n log(n))`, where n is the size of the input array. It divides the array into halves recursively and performs merging operations that take linear time. The `log(n)` factor arises from the recursive division, and the n factor arises from the merging step.\n",
    "\n",
    "The space complexity is `O(n log(n))` due to the additional space required for the recursive function calls and the merging process. In each recursive call, additional space is used for the left and right subarrays. However, the space usage is not cumulative since only one recursive call is active at a time.\n",
    "\n",
    "**Test:**"
   ]
  },
  {
   "cell_type": "code",
   "execution_count": 39,
   "metadata": {},
   "outputs": [
    {
     "name": "stdout",
     "output_type": "stream",
     "text": [
      "Input: arr = [5, 3, 8, 2, 1]\n",
      "Output: [1, 2, 3, 5, 8]\n",
      "Input: arr = [1, 2, 3, 4, 5]\n",
      "Output: [1, 2, 3, 4, 5]\n",
      "Input: arr = [10, 5, 2, 8, 3]\n",
      "Output: [2, 3, 5, 8, 10]\n",
      "Input: arr = [9, 7, 5, 3, 1]\n",
      "Output: [1, 3, 5, 7, 9]\n"
     ]
    }
   ],
   "source": [
    "arr = [5, 3, 8, 2, 1]\n",
    "print(f\"Input: arr = {arr}\")\n",
    "print(\"Output:\", merge_sort(arr))  # Output: [1, 2, 3, 5, 8]\n",
    "\n",
    "arr = [1, 2, 3, 4, 5]\n",
    "print(f\"Input: arr = {arr}\")\n",
    "print(\"Output:\", merge_sort(arr))  # Output: [1, 2, 3, 4, 5]\n",
    "\n",
    "arr = [10, 5, 2, 8, 3]\n",
    "print(f\"Input: arr = {arr}\")\n",
    "print(\"Output:\", merge_sort(arr))  # Output: [2, 3, 5, 8, 10]\n",
    "\n",
    "arr = [9, 7, 5, 3, 1]\n",
    "print(f\"Input: arr = {arr}\")\n",
    "print(\"Output:\", merge_sort(arr))  # Output [1, 3, 5, 7, 9]\n"
   ]
  },
  {
   "attachments": {},
   "cell_type": "markdown",
   "metadata": {},
   "source": [
    "## 5. Quick Sort\n",
    "\n",
    "Like Merge Sort, Quick Sort is a divide-and-conquer sorting algorithm that selects a pivot element and partitions the array around the pivot. It recursively sorts the subarrays on either side of the pivot until the entire array is sorted.  \n"
   ]
  },
  {
   "cell_type": "code",
   "execution_count": 40,
   "metadata": {},
   "outputs": [],
   "source": [
    "def quick_sort(array):\n",
    "    quick_sort_helper(array, 0, len(array) - 1)\n",
    "    return array\n",
    "\n",
    "\n",
    "def quick_sort_helper(array, start, end):\n",
    "    # Base case: subarray has 0 or 1 element\n",
    "    if start >= end:\n",
    "        return\n",
    "\n",
    "    # Choose the first element as the pivot\n",
    "    pivot = start\n",
    "    left = start + 1\n",
    "    right = end\n",
    "\n",
    "    while right >= left:\n",
    "        # Swap elements if they are on the wrong side of the pivot\n",
    "        if array[left] > array[pivot] and array[right] < array[pivot]:\n",
    "            array[left], array[right] = array[right], array[left]\n",
    "\n",
    "        if array[left] <= array[pivot]:\n",
    "            left += 1\n",
    "\n",
    "        if array[right] >= array[pivot]:\n",
    "            right -= 1\n",
    "\n",
    "    # Move the pivot to its sorted position\n",
    "    array[pivot], array[right] = array[right], array[pivot]\n",
    "\n",
    "    # Recursively sort the subarrays\n",
    "    is_left_subarray_smaller = right - 1 - start < end - (right + 1)\n",
    "\n",
    "    if is_left_subarray_smaller:\n",
    "        quick_sort_helper(array, start, right - 1)\n",
    "        quick_sort_helper(array, right + 1, end)\n",
    "    else:\n",
    "        quick_sort_helper(array, right + 1, end)\n",
    "        quick_sort_helper(array, start, right - 1)\n"
   ]
  },
  {
   "attachments": {},
   "cell_type": "markdown",
   "metadata": {},
   "source": [
    "**Explanation:**\n",
    "\n",
    "The quick sort algorithm follows a recursive divide-and-conquer approach:\n",
    "\n",
    "- The `quick_sort` function calls the `quick_sort_helper` function to perform the sorting.\n",
    "- The `quick_sort_helper` function takes the start and end indices of the subarray to be sorted.\n",
    "- In each recursive call, the function selects a pivot element (in this case, the first element) and partitions the array around the pivot.\n",
    "- The partitioning process is performed using two pointers, `left` and `right`, that move towards each other until they cross.\n",
    "- The elements are compared with the pivot, and if they are on the wrong side, they are swapped.\n",
    "- After the partitioning process, the pivot element is in its sorted position, and the subarray is divided into two parts.\n",
    "- Depending on the size of the subarrays, the function makes recursive calls to sort the smaller subarray first to minimize the stack space used for recursion.\n",
    "- The process continues until the base case is reached (subarray with 0 or 1 element).\n",
    "\n",
    "**Time and space complexity:**\n",
    "\n",
    "The quick sort algorithm has an average-case time complexity of `O(n log(n))`, where n is the size of the input array. However, in the worst case, the time complexity can be `O(n^2)` when the pivot selection is unfavorable. The partitioning step takes linear time, and the recursive calls are made on smaller subarrays.\n",
    "\n",
    "The space complexity is `O(log(n))` on average, representing the stack space used for the recursive calls. In the worst case, it can be `O(n)` when the recursive calls are made on subarrays of size close to n.\n",
    "\n",
    "**Test:**"
   ]
  },
  {
   "cell_type": "code",
   "execution_count": 41,
   "metadata": {},
   "outputs": [
    {
     "name": "stdout",
     "output_type": "stream",
     "text": [
      "Input: arr = [5, 3, 8, 2, 1]\n",
      "Output: [1, 2, 3, 5, 8]\n",
      "Input: arr = [1, 2, 3, 4, 5]\n",
      "Output: [1, 2, 3, 4, 5]\n",
      "Input: arr = [10, 5, 2, 8, 3]\n",
      "Output: [2, 3, 5, 8, 10]\n",
      "Input: arr = [9, 7, 5, 3, 1]\n",
      "Output: [1, 3, 5, 7, 9]\n"
     ]
    }
   ],
   "source": [
    "arr = [5, 3, 8, 2, 1]\n",
    "print(f\"Input: arr = {arr}\")\n",
    "print(\"Output:\", quick_sort(arr))  # Output: [1, 2, 3, 5, 8]\n",
    "\n",
    "arr = [1, 2, 3, 4, 5]\n",
    "print(f\"Input: arr = {arr}\")\n",
    "print(\"Output:\", quick_sort(arr))  # Output: [1, 2, 3, 4, 5]\n",
    "\n",
    "arr = [10, 5, 2, 8, 3]\n",
    "print(f\"Input: arr = {arr}\")\n",
    "print(\"Output:\", quick_sort(arr))  # Output: [2, 3, 5, 8, 10]\n",
    "\n",
    "arr = [9, 7, 5, 3, 1]\n",
    "print(f\"Input: arr = {arr}\")\n",
    "print(\"Output:\", quick_sort(arr))  # Output [1, 3, 5, 7, 9]\n"
   ]
  },
  {
   "attachments": {},
   "cell_type": "markdown",
   "metadata": {},
   "source": [
    "## 6. Heap Sort (Binary Heap)\n",
    "\n",
    "Heap Sort is a comparison-based sorting algorithm that uses a binary heap data structure to sort elements. It first builds a max heap from the input array and then repeatedly extracts the maximum element from the heap, swapping it with the last element of the heap and reducing the heap size. This process continues until the entire array is sorted.\n"
   ]
  },
  {
   "cell_type": "code",
   "execution_count": 42,
   "metadata": {},
   "outputs": [],
   "source": [
    "def heapify(arr, n, i):\n",
    "    largest = i\n",
    "    left = 2 * i + 1\n",
    "    right = 2 * i + 2\n",
    "\n",
    "    if left < n and arr[left] > arr[largest]:\n",
    "        largest = left\n",
    "\n",
    "    if right < n and arr[right] > arr[largest]:\n",
    "        largest = right\n",
    "\n",
    "    if largest != i:\n",
    "        arr[i], arr[largest] = arr[largest], arr[i]\n",
    "        heapify(arr, n, largest)\n",
    "\n",
    "\n",
    "def heap_sort(array):\n",
    "    n = len(array)\n",
    "\n",
    "    # Build a max heap\n",
    "    for i in range(n // 2 - 1, -1, -1):\n",
    "        heapify(array, n, i)\n",
    "\n",
    "    # Extract elements from the heap one by one\n",
    "    for i in range(n - 1, 0, -1):\n",
    "        array[i], array[0] = array[0], array[i]\n",
    "        heapify(array, i, 0)\n",
    "\n",
    "    return array\n"
   ]
  },
  {
   "attachments": {},
   "cell_type": "markdown",
   "metadata": {},
   "source": [
    "**Explanation:**\n",
    "\n",
    "The heap sort algorithm can be divided into two main steps:\n",
    "\n",
    "- The `heapify` function is responsible for creating a max heap from an unsorted array. It takes three parameters: the array, the size of the heap (n), and the index of the current element (`i`) being considered. It compares the element at index i with its left and right child (if they exist) and swaps it with the larger child if necessary. This process is repeated recursively to ensure that the heap property is maintained.\n",
    "- The `heap_sort` function first builds a max heap from the input array by calling `heapify` on all non-leaf nodes starting from the last non-leaf node up to the root. After building the max heap, it repeatedly extracts the maximum element from the heap by swapping it with the last element and reducing the heap size. This step is performed in reverse order to sort the array in ascending order.\n",
    "- The final sorted array is returned.\n",
    "\n",
    "**Time and space complexity:**\n",
    "\n",
    "The heap sort algorithm has a worst-case time complexity of `O(n log(n))`, where `n` is the size of the input array. Both the build heap step and the extract max step take `O(log(n))` time, and they are performed `n` times. The space complexity is `O(1)` since the sorting is done in place, without using any additional data structures.\n",
    "\n",
    "**Test:**"
   ]
  },
  {
   "cell_type": "code",
   "execution_count": 43,
   "metadata": {},
   "outputs": [
    {
     "name": "stdout",
     "output_type": "stream",
     "text": [
      "Input: arr = [5, 3, 8, 2, 1]\n",
      "Output: [1, 2, 3, 5, 8]\n",
      "Input: arr = [1, 2, 3, 4, 5]\n",
      "Output: [1, 2, 3, 4, 5]\n",
      "Input: arr = [10, 5, 2, 8, 3]\n",
      "Output: [2, 3, 5, 8, 10]\n",
      "Input: arr = [9, 7, 5, 3, 1]\n",
      "Output: [1, 3, 5, 7, 9]\n"
     ]
    }
   ],
   "source": [
    "arr = [5, 3, 8, 2, 1]\n",
    "print(f\"Input: arr = {arr}\")\n",
    "print(\"Output:\", heap_sort(arr))  # Output: [1, 2, 3, 5, 8]\n",
    "\n",
    "arr = [1, 2, 3, 4, 5]\n",
    "print(f\"Input: arr = {arr}\")\n",
    "print(\"Output:\", heap_sort(arr))  # Output: [1, 2, 3, 4, 5]\n",
    "\n",
    "arr = [10, 5, 2, 8, 3]\n",
    "print(f\"Input: arr = {arr}\")\n",
    "print(\"Output:\", heap_sort(arr))  # Output: [2, 3, 5, 8, 10]\n",
    "\n",
    "arr = [9, 7, 5, 3, 1]\n",
    "print(f\"Input: arr = {arr}\")\n",
    "print(\"Output:\", heap_sort(arr))  # Output [1, 3, 5, 7, 9]\n"
   ]
  },
  {
   "attachments": {},
   "cell_type": "markdown",
   "metadata": {},
   "source": [
    "## 7. Topological Sort\n",
    "\n",
    "**Academic definition:**\n",
    "\n",
    "Topological Sort is an algorithm used to order the nodes in a directed acyclic graph (DAG) such that for every directed edge (u, v), node u comes before node v in the ordering. It is commonly used in tasks that have dependencies, such as task scheduling or determining the order of courses to take in a curriculum.\n"
   ]
  },
  {
   "cell_type": "code",
   "execution_count": 44,
   "metadata": {},
   "outputs": [],
   "source": [
    "def topological_sort(jobs, deps):\n",
    "    graph = create_job_graph(jobs, deps)\n",
    "    return get_ordered_jobs(graph)\n",
    "\n",
    "\n",
    "def create_job_graph(jobs, deps):\n",
    "    graph = JobGraph(jobs)\n",
    "    for prereq, job in deps:\n",
    "        graph.add_prereq(job, prereq)\n",
    "    return graph\n",
    "\n",
    "\n",
    "def get_ordered_jobs(graph):\n",
    "    ordered_jobs = []\n",
    "    nodes = graph.nodes\n",
    "    while nodes:\n",
    "        node = nodes.pop()\n",
    "        contains_cycle = depth_first_traverse(node, ordered_jobs)\n",
    "        if contains_cycle:\n",
    "            return []\n",
    "    return ordered_jobs\n",
    "\n",
    "\n",
    "def depth_first_traverse(node, ordered_jobs):\n",
    "    if node.visited:\n",
    "        return False\n",
    "    if node.visiting:\n",
    "        return True\n",
    "    node.visiting = True\n",
    "    for prereq_node in node.prereqs:\n",
    "        contains_cycle = depth_first_traverse(prereq_node, ordered_jobs)\n",
    "        if contains_cycle:\n",
    "            return True\n",
    "    node.visited = True\n",
    "    node.visiting = False\n",
    "    ordered_jobs.append(node.job)\n",
    "    return False\n",
    "\n",
    "\n",
    "class JobGraph:\n",
    "    def __init__(self, jobs):\n",
    "        self.nodes = []\n",
    "        self.graph = {}\n",
    "        for job in jobs:\n",
    "            self.add_node(job)\n",
    "\n",
    "    def add_prereq(self, job, prereq):\n",
    "        job_node = self.get_node(job)\n",
    "        prereq_node = self.get_node(prereq)\n",
    "        job_node.prereqs.append(prereq_node)\n",
    "\n",
    "    def add_node(self, job):\n",
    "        self.graph[job] = JobNode(job)\n",
    "        self.nodes.append(self.graph[job])\n",
    "\n",
    "    def get_node(self, job):\n",
    "        if job not in self.graph:\n",
    "            self.add_node(job)\n",
    "        return self.graph[job]\n",
    "\n",
    "\n",
    "class JobNode:\n",
    "    def __init__(self, job):\n",
    "        self.job = job\n",
    "        self.prereqs = []\n",
    "        self.visited = False\n",
    "        self.visiting = False\n"
   ]
  },
  {
   "attachments": {},
   "cell_type": "markdown",
   "metadata": {},
   "source": [
    "**Explanation:**\n",
    "\n",
    "The topological sort algorithm uses depth-first search (DFS) to traverse the graph and find a valid ordering of the jobs. The code can be summarized as follows:\n",
    "\n",
    "- The `topological_sort` function is the entry point of the algorithm. It takes a list of jobs and their dependencies and returns the ordered jobs.\n",
    "- The `create_job_graph` function creates a directed graph using a JobGraph object. It adds nodes for each job and their dependencies as edges.\n",
    "- The `get_ordered_jobs` function performs the topological sort by calling depth_first_traverse on each node in the graph. It starts with the last node and explores its dependencies recursively.\n",
    "- The `depth_first_traverse` function checks for cycles by maintaining two flags: `visited` and `visiting`. It returns True if a cycle is detected and False otherwise. It adds the jobs to the `ordered_jobs` list in the correct order.\n",
    "- The `JobGraph` class represents the graph and provides methods to add nodes and edges. It uses a hash table (graph) to map job names to their corresponding nodes (`JobNode`).\n",
    "- The `JobNode` class represents a job node in the graph. It contains the job name, a list of prerequisite nodes, and flags to represent the node's status during traversal.\n",
    "\n",
    "**Time and space complexity:**\n",
    "\n",
    "The time complexity of the topological sort algorithm is O(j + d), where j is the number of jobs and d is the number of dependencies. The algorithm traverses each job and its dependencies once, resulting in a linear time complexity. The space complexity is also O(j + d) since the algorithm constructs a graph representation of the jobs and their dependencies. The space is used to store the nodes, edges, and additional data structures for traversal.\n",
    "\n",
    "**test:**\n"
   ]
  },
  {
   "cell_type": "code",
   "execution_count": 45,
   "metadata": {},
   "outputs": [
    {
     "name": "stdout",
     "output_type": "stream",
     "text": [
      "Input: jobs = [1, 2, 3, 4], deps = [(1, 2), (1, 3), (3, 2), (4, 2), (4, 3)]\n",
      "Output: [4, 1, 3, 2]\n",
      "Input: jobs = [1, 2, 3, 4, 5], deps = [(1, 2), (2, 3), (3, 4), (4, 5)]\n",
      "Output: [1, 2, 3, 4, 5]\n",
      "Input: jobs = [1, 2, 3, 4], deps = [(1, 2), (2, 3), (3, 4), (4, 2)]\n",
      "Output: []\n",
      "Input: jobs = [1, 2, 3], deps = [(1, 2), (2, 3), (3, 1)]\n",
      "Output: []\n"
     ]
    }
   ],
   "source": [
    "jobs = [1, 2, 3, 4]\n",
    "deps = [(1, 2), (1, 3), (3, 2), (4, 2), (4, 3)]\n",
    "print(f\"Input: jobs = {jobs}, deps = {deps}\")\n",
    "print(\"Output:\", topological_sort(jobs, deps))  # Output: [4, 1, 3, 2]\n",
    "\n",
    "jobs = [1, 2, 3, 4, 5]\n",
    "deps = [(1, 2), (2, 3), (3, 4), (4, 5)]\n",
    "print(f\"Input: jobs = {jobs}, deps = {deps}\")\n",
    "print(\"Output:\", topological_sort(jobs, deps))  # Output: [1, 2, 3, 4, 5]\n",
    "\n",
    "jobs = [1, 2, 3, 4]\n",
    "deps = [(1, 2), (2, 3), (3, 4), (4, 2)]\n",
    "print(f\"Input: jobs = {jobs}, deps = {deps}\")\n",
    "print(\"Output:\", topological_sort(jobs, deps))  # Output: []\n",
    "\n",
    "jobs = [1, 2, 3]\n",
    "deps = [(1, 2), (2, 3), (3, 1)]\n",
    "print(f\"Input: jobs = {jobs}, deps = {deps}\")\n",
    "print(\"Output:\", topological_sort(jobs, deps))  # Output: []\n"
   ]
  },
  {
   "attachments": {},
   "cell_type": "markdown",
   "metadata": {},
   "source": [
    "## 8. Radix Sort\n",
    "\n",
    "Radix Sort is a non-comparative sorting algorithm that sorts numbers by processing individual digits. It starts by sorting the numbers based on the least significant digit and gradually moves towards the most significant digit. The algorithm repeatedly uses a stable sorting algorithm, such as Counting Sort, to sort the numbers based on each digit."
   ]
  },
  {
   "cell_type": "code",
   "execution_count": 46,
   "metadata": {},
   "outputs": [],
   "source": [
    "def radix_sort(array):\n",
    "    if len(array) == 0:\n",
    "        return array\n",
    "\n",
    "    max_number = max(array)\n",
    "    num_digits = len(str(max_number))\n",
    "\n",
    "    for digit in range(num_digits):\n",
    "        counting_sort(array, digit)\n",
    "\n",
    "    return array\n",
    "\n",
    "\n",
    "def counting_sort(array, digit):\n",
    "    sorted_array = [0] * len(array)\n",
    "    count_array = [0] * 10\n",
    "\n",
    "    for num in array:\n",
    "        count_index = (num // (10 ** digit)) % 10\n",
    "        count_array[count_index] += 1\n",
    "\n",
    "    for idx in range(1, 10):\n",
    "        count_array[idx] += count_array[idx - 1]\n",
    "\n",
    "    for idx in range(len(array) - 1, -1, -1):\n",
    "        count_index = (array[idx] // (10 ** digit)) % 10\n",
    "        count_array[count_index] -= 1\n",
    "        sorted_index = count_array[count_index]\n",
    "        sorted_array[sorted_index] = array[idx]\n",
    "\n",
    "    for idx in range(len(array)):\n",
    "        array[idx] = sorted_array[idx]\n"
   ]
  },
  {
   "attachments": {},
   "cell_type": "markdown",
   "metadata": {},
   "source": [
    "**Explanation:**\n",
    "\n",
    "The radix sort algorithm processes the digits of the numbers from the least significant digit to the most significant digit. The code can be summarized as follows:\n",
    "\n",
    "- The `radix_sort` function is the entry point of the algorithm. It checks if the input array is empty and finds the maximum number to determine the number of - digits in the largest number. It then performs radix sort by calling `counting_sort` for each digit position.\n",
    "- The `counting_sort` function is used as a subroutine to sort the numbers based on the current digit. It creates a count array to count the occurrences of each digit value (0 to 9) in the current digit position.\n",
    "- The count array is modified to store the positions where each digit value should be placed in the sorted array.\n",
    "- The sorted array is constructed by iterating over the input array in reverse order and placing each element at the correct position based on the count array.\n",
    "- Finally, the original array is updated with the sorted elements.\n",
    "\n",
    "**Time and space complexity:**\n",
    "\n",
    "The time complexity of radix sort is `O(d * (n + k))`, where `n` is the number of elements in the array, `d` is the number of digits in the maximum number, and `k` is the range of the digit values (typically 10 for decimal digits). The algorithm performs counting sort for each digit position, which takes `O(n + k)` time.\n",
    "\n",
    "The space complexity is `O(n + k)` since additional space is required for the sorted array, count array, and other variables. The space complexity increases with the range of digit values.\n",
    "\n",
    "\n",
    "**Test:**\n"
   ]
  },
  {
   "cell_type": "code",
   "execution_count": 47,
   "metadata": {},
   "outputs": [
    {
     "name": "stdout",
     "output_type": "stream",
     "text": [
      "Input: [170, 45, 75, 90, 802, 24, 2, 66]\n",
      "Output: [2, 24, 45, 66, 75, 90, 170, 802]\n",
      "Input: [321, 56, 789, 12, 456, 234, 901]\n",
      "Output: [12, 56, 234, 321, 456, 789, 901]\n",
      "Input: [9, 8, 7, 6, 5, 4, 3, 2, 1]\n",
      "Output: [1, 2, 3, 4, 5, 6, 7, 8, 9]\n",
      "Input: [1000, 100, 10, 1, 10000, 100000]\n",
      "Output: [1, 10, 100, 1000, 10000, 100000]\n"
     ]
    }
   ],
   "source": [
    "array = [170, 45, 75, 90, 802, 24, 2, 66]\n",
    "print(f\"Input: {array}\")\n",
    "radix_sort(array)\n",
    "print(\"Output:\", array)  # Output: [2, 24, 45, 66, 75, 90, 170, 802]\n",
    "\n",
    "array = [321, 56, 789, 12, 456, 234, 901]\n",
    "print(f\"Input: {array}\")\n",
    "radix_sort(array)\n",
    "print(\"Output:\", array)  # Output: [12, 56, 234, 321, 456, 789, 901]\n",
    "\n",
    "array = [9, 8, 7, 6, 5, 4, 3, 2, 1]\n",
    "print(f\"Input: {array}\")\n",
    "radix_sort(array)\n",
    "print(\"Output:\", array)  # Output: [1, 2, 3, 4, 5, 6, 7, 8, 9]\n",
    "\n",
    "array = [1000, 100, 10, 1, 10000, 100000]\n",
    "print(f\"Input: {array}\")\n",
    "radix_sort(array)\n",
    "print(\"Output:\", array)  # Output: [1, 10, 100, 1000, 10000, 100000]\n"
   ]
  },
  {
   "attachments": {},
   "cell_type": "markdown",
   "metadata": {},
   "source": [
    "## 9. Binary Search\n",
    "\n",
    "Binary search is an efficient algorithm used to find a specific target value within a sorted array. It works by repeatedly dividing the search interval in half until the target value is found or the interval becomes empty.\n",
    "\n"
   ]
  },
  {
   "cell_type": "code",
   "execution_count": 48,
   "metadata": {},
   "outputs": [],
   "source": [
    "def binary_search(arr, target):\n",
    "    left = 0\n",
    "    right = len(arr) - 1\n",
    "\n",
    "    while left <= right:\n",
    "        mid = (left + right) // 2\n",
    "\n",
    "        if target == arr[mid]:\n",
    "            return mid\n",
    "        elif target < arr[mid]:\n",
    "            right = mid - 1\n",
    "        else:\n",
    "            left = mid + 1\n",
    "\n",
    "    return -1\n",
    "\n"
   ]
  },
  {
   "attachments": {},
   "cell_type": "markdown",
   "metadata": {},
   "source": [
    "\n",
    "\n",
    "**Explanation:**\n",
    "\n",
    "The binary search algorithm starts with an initial left index and right index representing the boundaries of the search interval. It then calculates the middle index and compares the target value (`target`) with the value at the middle index of the array (`arr[mid]`).\n",
    "- If the target value is found, it returns the index (`mid`).\n",
    "- If the target value is less than the middle element, it updates the right index to be `mid - 1` to search in the left half of the interval.\n",
    "- If the target value is greater than the middle element, it updates the left index to be `mid + 1` to search in the right half of the interval.\n",
    "- The process continues until the target value is found or the interval becomes empty (left index surpasses the right index).\n",
    "- If the target value is not found, the function returns -1.\n",
    "\n",
    "**Time and Space Complexity:**\n",
    "\n",
    "The binary search algorithm has a time complexity of `O(log n)`, where `n` is the size of the input array. It performs a halving of the search interval in each iteration, resulting in a logarithmic time complexity. The space complexity is `O(1)` since the algorithm uses a fixed amount of additional space to store the left, right, and mid indices. It does not depend on the size of the input array.\n",
    "\n",
    "**Test:**"
   ]
  },
  {
   "cell_type": "code",
   "execution_count": 49,
   "metadata": {},
   "outputs": [
    {
     "name": "stdout",
     "output_type": "stream",
     "text": [
      "Input: arr = [1, 2, 3, 4, 5], x = 3\n",
      "Output: 2\n",
      "Input: arr = [1, 2, 3, 4, 5], x = 6\n",
      "Output: -1\n",
      "Input: arr = [10, 20, 30, 40, 50, 60], x = 40\n",
      "Output: 3\n",
      "Input: arr = [10, 20, 30, 40, 50, 60], x = 25\n",
      "Output: -1\n"
     ]
    }
   ],
   "source": [
    "\n",
    "arr = [1, 2, 3, 4, 5]\n",
    "x = 3\n",
    "print(f\"Input: arr = {arr}, x = {x}\")\n",
    "print(\"Output:\", binary_search(arr, x))  # Output: 2\n",
    "\n",
    "arr = [1, 2, 3, 4, 5]\n",
    "x = 6\n",
    "print(f\"Input: arr = {arr}, x = {x}\")\n",
    "print(\"Output:\", binary_search(arr, x))  # Output: -1\n",
    "\n",
    "arr = [10, 20, 30, 40, 50, 60]\n",
    "x = 40\n",
    "print(f\"Input: arr = {arr}, x = {x}\")\n",
    "print(\"Output:\", binary_search(arr, x))  # Output: 3\n",
    "\n",
    "arr = [10, 20, 30, 40, 50, 60]\n",
    "x = 25\n",
    "print(f\"Input: arr = {arr}, x = {x}\")\n",
    "print(\"Output:\", binary_search(arr, x))  # Output: -1\n",
    "\n"
   ]
  },
  {
   "attachments": {},
   "cell_type": "markdown",
   "metadata": {},
   "source": [
    "## 10. Find Kth Smallest/Largest Element In Unsorted Array\n",
    "\n",
    "- **Method 1:** Sorting Algorithm and Select Kth\n",
    "\n",
    "    - Time Complexity: `O(nlog(n))`\n",
    "    - Explanation: This method involves sorting the array using a sorting algorithm with a time complexity of `O(nlog(n))`. Once the array is sorted, the kth smallest or largest element can be easily identified by accessing the corresponding index.\n",
    "    - Code Explanation: This method is not explicitly provided in the given code. However, it involves sorting the array using a sorting algorithm (e.g., merge sort, quicksort) and then returning the kth element.\n",
    "\n",
    "\n",
    "- **Method 2:** Using Heap\n",
    "\n",
    "    - Time Complexity: `O(nlog(k))`\n",
    "    - Explanation: This method utilizes a min-heap to efficiently find the kth smallest element in the unsorted array. It maintains a heap of size k, where the smallest k elements are stored. For each element in the array, if the heap size is less than k, the element is added to the heap. If the heap size reaches k, the smallest element is replaced if the current element is larger, ensuring the heap always contains the k smallest elements. The smallest element in the heap will be the kth smallest element in the array.\n",
    "\n"
   ]
  },
  {
   "cell_type": "code",
   "execution_count": 50,
   "metadata": {},
   "outputs": [],
   "source": [
    "import heapq\n",
    "\n",
    "def kth_smallest(arr, k):\n",
    "    # Initialize a min-heap\n",
    "    heap = []\n",
    "\n",
    "    # Iterate over each element in the array\n",
    "    for value in arr:\n",
    "        # Push the negative value onto the heap\n",
    "        # to simulate a max-heap behavior\n",
    "        if len(heap) < k:\n",
    "            heapq.heappush(heap, -value)\n",
    "        else:\n",
    "            # If the heap size reaches k, push the current\n",
    "            # element and simultaneously pop the smallest element\n",
    "            heapq.heappushpop(heap, -value)\n",
    "\n",
    "    # Return the negation of the top element in the heap\n",
    "    # to retrieve the kth smallest element\n",
    "    return -heap[0]\n"
   ]
  },
  {
   "attachments": {},
   "cell_type": "markdown",
   "metadata": {},
   "source": [
    "**Explanation:**\n",
    "\n",
    "- The function `kth_smallest` takes an array `arr` and an integer `k` as input.\n",
    "- A min-heap, represented by the `heap` list, is initialized to store the `k` smallest elements encountered so far.\n",
    "- The function iterates over each element `value` in the array.\n",
    "- If the size of the heap is less than k, the negative value of the current element is pushed onto the heap using `heapq.heappush`, simulating a max-heap behavior.\n",
    "- If the heap size reaches k, the current element is pushed onto the heap using `heapq.heappushpop`, which simultaneously pushes the element and pops the smallest element. This ensures that the heap always contains the k smallest elements encountered so far.\n",
    "- After iterating through all the elements, the kth smallest element will be present at the top of the heap.\n",
    "- The negation of the top element is returned as the final result, giving us the kth smallest element from the original array.\n",
    "\n",
    "**Test:**"
   ]
  },
  {
   "cell_type": "code",
   "execution_count": 51,
   "metadata": {},
   "outputs": [
    {
     "name": "stdout",
     "output_type": "stream",
     "text": [
      "Array: [7, 2, 1, 6, 8, 5]\n",
      "kth Smallest Element (3): 5\n",
      "Array: [9, 4, 2, 7, 1, 5]\n",
      "kth Smallest Element (2): 2\n",
      "Array: [3, 9, 1, 6, 2, 8]\n",
      "kth Smallest Element (4): 6\n"
     ]
    }
   ],
   "source": [
    "arr = [7, 2, 1, 6, 8, 5]\n",
    "k = 3\n",
    "print(f\"Array: {arr}\")\n",
    "print(f\"kth Smallest Element ({k}): {kth_smallest(arr, k)}\")\n",
    "# Output: kth Smallest Element (3): 5\n",
    "\n",
    "arr = [9, 4, 2, 7, 1, 5]\n",
    "k = 2\n",
    "print(f\"Array: {arr}\")\n",
    "print(f\"kth Smallest Element ({k}): {kth_smallest(arr, k)}\")\n",
    "# Output: kth Smallest Element (2): 2\n",
    "\n",
    "arr = [3, 9, 1, 6, 2, 8]\n",
    "k = 4\n",
    "print(f\"Array: {arr}\")\n",
    "print(f\"kth Smallest Element ({k}): {kth_smallest(arr, k)}\")\n",
    "# Output: kth Smallest Element (4): 6\n"
   ]
  },
  {
   "attachments": {},
   "cell_type": "markdown",
   "metadata": {},
   "source": [
    "\n",
    "- **Method 3:** Using Pivot and Partitioning Concept (Similar to Quick Sort)\n",
    "\n",
    "    - Time Complexity: `O(n)` on average, `O(n^2)` in the worst case\n",
    "    - Explanation: This method is based on the partitioning concept used in quicksort. It selects a pivot element and partitions the array such that elements smaller than the pivot are on the left and elements larger than the pivot are on the right. By comparing the pivot's position with k, we can determine whether the kth smallest element lies in the left or right subarray. This process is recursively applied to the corresponding subarray until the kth element is found.\n",
    "\n"
   ]
  },
  {
   "cell_type": "code",
   "execution_count": 52,
   "metadata": {},
   "outputs": [],
   "source": [
    "def kth_smallest(arr, k):\n",
    "    left = 0\n",
    "    right = len(arr) - 1\n",
    "    return kth_smallest_helper(arr, left, right, k)\n",
    "\n",
    "def kth_smallest_helper(arr, left, right, k):\n",
    "    if k > 0 and k <= right - left + 1:\n",
    "        # Partition the array around the last element and get the position of the pivot element in the sorted array\n",
    "        pos = partition(arr, left, right)\n",
    "        \n",
    "        # If the position is the same as k, the pivot element is the kth smallest element\n",
    "        if pos - left == k - 1:\n",
    "            return arr[pos]\n",
    "        \n",
    "        # If the position is greater than k, recur for the left subarray\n",
    "        if pos - left > k - 1:\n",
    "            return kth_smallest_helper(arr, left, pos - 1, k)\n",
    "        \n",
    "        # Else, recur for the right subarray\n",
    "        return kth_smallest_helper(arr, pos + 1, right, k - pos + left - 1)\n",
    "    \n",
    "    # If k is greater than the number of elements in the array, return -1\n",
    "    return -1\n",
    "\n",
    "def partition(arr, left, right):\n",
    "    pivot = arr[right]  # Choose the last element as the pivot\n",
    "    i = left\n",
    "    \n",
    "    for j in range(left, right):\n",
    "        if arr[j] <= pivot:\n",
    "            # Swap arr[i] and arr[j] to place elements smaller than the pivot on the left side\n",
    "            arr[i], arr[j] = arr[j], arr[i]\n",
    "            i += 1\n",
    "    \n",
    "    # Swap arr[i] and arr[right] to place the pivot element in its correct position\n",
    "    arr[i], arr[right] = arr[right], arr[i]\n",
    "    \n",
    "    return i\n"
   ]
  },
  {
   "attachments": {},
   "cell_type": "markdown",
   "metadata": {},
   "source": [
    "**Explanation:**\n",
    "\n",
    "- The function `kth_smallest` takes an array `arr` and an integer `k` as input.\n",
    "- The function `kth_smallest_helper` is a recursive helper function that performs the actual calculation.\n",
    "- If k is within the valid range (greater than 0 and less than or equal to the number of elements in the array), the function proceeds.\n",
    "- The array is partitioned around the last element (`arr[right]`) as the pivot using the `partition` function.\n",
    "- The `partition` function rearranges the elements such that all elements smaller than the pivot are placed on the left side, and all elements greater than the pivot are placed on the right side.\n",
    "- The position of the pivot element in the sorted array is obtained.\n",
    "- If the position of the pivot element is equal to `k - 1`, it means that the pivot element is the kth smallest element, and it is returned.\n",
    "- If the position of the pivot element is greater than `k - 1`, it means that the kth smallest element lies in the left subarray, and the function recursively calls kthSmallest_helper on the left subarray.\n",
    "- If the position of the pivot element is less than `k - 1`, it means that the kth smallest element lies in the right subarray, and the function recursively calls `kth_smallest_helper` on the right subarray, adjusting the value of `k` accordingly.\n",
    "- If `k` is outside the valid range, indicating that there are fewer elements in the array than `k,` the function returns -1.\n",
    "- The `partition` function follows the traditional partitioning process of QuickSort. It chooses the last element as the pivot. It initializes the index `i` to the leftmost element (left) and iterates from left to `right-1` using the variable `j`. If the element at index `j` is less than or equal to the pivot, it swaps the elements at indices `i` and `j`, and increments `i`. This process ensures that all elements smaller than the pivot are placed to the left of `i`. Finally, it swaps the pivot element (`arr[right]`) with the element at index `i` to put the pivot in its correct sorted position. The function then returns the index `i`, which represents the position of the pivot in the rearranged array.\n",
    "\n",
    "\n",
    "**Test:**"
   ]
  },
  {
   "cell_type": "code",
   "execution_count": 53,
   "metadata": {},
   "outputs": [
    {
     "name": "stdout",
     "output_type": "stream",
     "text": [
      "Array: [7, 2, 1, 6, 8, 5]\n",
      "kth Smallest Element (3): 5\n",
      "Array: [9, 4, 2, 7, 1, 5]\n",
      "kth Smallest Element (2): 2\n",
      "Array: [3, 9, 1, 6, 2, 8]\n",
      "kth Smallest Element (4): 6\n"
     ]
    }
   ],
   "source": [
    "arr = [7, 2, 1, 6, 8, 5]\n",
    "k = 3\n",
    "print(f\"Array: {arr}\")\n",
    "print(f\"kth Smallest Element ({k}): {kth_smallest(arr, k)}\")\n",
    "# Output: kth Smallest Element (3): 5\n",
    "\n",
    "arr = [9, 4, 2, 7, 1, 5]\n",
    "k = 2\n",
    "print(f\"Array: {arr}\")\n",
    "print(f\"kth Smallest Element ({k}): {kth_smallest(arr, k)}\")\n",
    "# Output: kth Smallest Element (2): 2\n",
    "\n",
    "arr = [3, 9, 1, 6, 2, 8]\n",
    "k = 4\n",
    "print(f\"Array: {arr}\")\n",
    "print(f\"kth Smallest Element ({k}): {kth_smallest(arr, k)}\")\n",
    "# Output: kth Smallest Element (4): 6\n"
   ]
  },
  {
   "attachments": {},
   "cell_type": "markdown",
   "metadata": {},
   "source": [
    "## 11. Interpolation Search\n",
    "\n",
    "Interpolation search is an algorithm used to search for a target element in a sorted array. It improves on the performance of binary search by using a formula to estimate the likely position of the target within the array. This algorithm works best on uniformly distributed arrays.\n"
   ]
  },
  {
   "cell_type": "code",
   "execution_count": 54,
   "metadata": {},
   "outputs": [],
   "source": [
    "def interpolation_search(arr, target):\n",
    "    left = 0\n",
    "    right = len(arr) - 1\n",
    "    return interpolation_search_helper(arr, left, right, target)\n",
    "\n",
    "def interpolation_search_helper(arr, left, right, target):\n",
    "    if left <= right and target >= arr[left] and target <= arr[right]:\n",
    "        pos = left + ((right - left) // (arr[right] - arr[left])) * (target - arr[left])\n",
    "\n",
    "        if arr[pos] == target:\n",
    "            return pos\n",
    "\n",
    "        if arr[pos] < target:\n",
    "            return interpolation_search_helper(arr, pos + 1, right, target)\n",
    "\n",
    "        if arr[pos] > target:\n",
    "            return interpolation_search_helper(arr, left, pos - 1, target)\n",
    "\n",
    "    return -1\n"
   ]
  },
  {
   "attachments": {},
   "cell_type": "markdown",
   "metadata": {},
   "source": [
    "\n",
    "**Explanation:**\n",
    "\n",
    "The `interpolation_search` function takes an array (`arr`) and a target value (`target`) as input. It initializes the left pointer to the beginning of the array and the right pointer to the end of the array. It then calls the interpolation_search_helper function with these parameters.\n",
    "\n",
    "The `interpolation_search_helper` function checks if the target value is within the range defined by the left and right pointers and if it's within the range of values in the array. If so, it calculates the estimated position (`pos`) of the target using the interpolation formula.\n",
    "\n",
    "The interpolation formula calculates the position by considering the proportion of the target value's difference from the left element to the difference between the left and right elements. This formula assumes a uniform distribution of values in the array.\n",
    "\n",
    "If the value at the estimated position (`arr[pos]`) matches the target value, it returns the position. If the estimated value is smaller than the target value, it recursively calls the `interpolation_search_helper` function with an updated left pointer (`pos + 1`) and the same right pointer. If the estimated value is larger than the target value, it recursively calls the `interpolation_search_helper` function with an updated right pointer (`pos - 1`) and the same left pointer.\n",
    "\n",
    "If the target value is not found within the given range or if the left pointer exceeds the right pointer, the function returns -1 to indicate that the target value was not found in the array.\n",
    "\n",
    "**Time and space complexity:**\n",
    "\n",
    "The time complexity of interpolation search is `O(log(log n))` in the average case, where `n `is the size of the input array. However, in the worst case, when the data is not uniformly distributed, the time complexity can be `O(n)`. The space complexity of the algorithm is `O(1)` as it does not require any additional data structures.\n",
    "\n",
    "**Test:**\n"
   ]
  },
  {
   "cell_type": "code",
   "execution_count": 55,
   "metadata": {},
   "outputs": [
    {
     "name": "stdout",
     "output_type": "stream",
     "text": [
      "Input: arr = [2, 4, 6, 8, 10] target = 6\n",
      "Output: 2\n",
      "Input: arr = [1, 3, 5, 7, 9] target = 10\n",
      "Output: -1\n",
      "Input: arr = [1, 2, 3, 4, 5] target = 1\n",
      "Output: 0\n"
     ]
    }
   ],
   "source": [
    "arr = [2, 4, 6, 8, 10]\n",
    "target = 6\n",
    "print(\"Input: arr =\", arr, \"target =\", target)\n",
    "print(\"Output:\", interpolation_search(arr, target))  # Expected output: 2\n",
    "\n",
    "arr = [1, 3, 5, 7, 9]\n",
    "target = 10\n",
    "print(\"Input: arr =\", arr, \"target =\", target)\n",
    "print(\"Output:\", interpolation_search(arr, target))  # Expected output: -1\n",
    "\n",
    "\n",
    "arr = [1, 2, 3, 4, 5]\n",
    "target = 1\n",
    "print(\"Input: arr =\", arr, \"target =\", target)\n",
    "print(\"Output:\", interpolation_search(arr, target))  # Expected output: 0\n",
    "\n",
    "\n"
   ]
  }
 ],
 "metadata": {
  "kernelspec": {
   "display_name": "base",
   "language": "python",
   "name": "python3"
  },
  "language_info": {
   "codemirror_mode": {
    "name": "ipython",
    "version": 3
   },
   "file_extension": ".py",
   "mimetype": "text/x-python",
   "name": "python",
   "nbconvert_exporter": "python",
   "pygments_lexer": "ipython3",
   "version": "3.9.13"
  },
  "orig_nbformat": 4,
  "vscode": {
   "interpreter": {
    "hash": "05655b172e02d0543f4689a9fd02cca4a7857b55ad1449565d55716c4230d5c1"
   }
  }
 },
 "nbformat": 4,
 "nbformat_minor": 2
}
