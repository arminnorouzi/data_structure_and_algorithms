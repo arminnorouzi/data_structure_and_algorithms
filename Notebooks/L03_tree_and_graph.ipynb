{
 "cells": [
  {
   "attachments": {},
   "cell_type": "markdown",
   "metadata": {},
   "source": [
    "# Tree & Graph\n",
    "\n",
    "This Jupyter Notebook focuses on graph and tree data structures and demonstrates various operations that can be performed on them using Python. Graphs and trees are essential for modeling and solving a wide range of real-world problems. This notebook covers the basics of graphs and trees, including their representation, traversal, and common algorithms associated with them. You can run this post in Google Colab using this link:\n",
    "\n",
    "<a href=\"https://colab.research.google.com/github/arminnorouzi/data_structure_and_algorithms/blob/main/Notebooks/L03_tree_and_graph.ipynb\" target=\"_parent\"><img src=\"https://colab.research.google.com/assets/colab-badge.svg\" alt=\"Open In Colab\"/></a>\n"
   ]
  },
  {
   "attachments": {},
   "cell_type": "markdown",
   "metadata": {},
   "source": [
    "**Graph:** A graph is a collection of vertices (nodes) and edges connecting the vertices. Graphs can be directed or undirected, weighted or unweighted, and can have cycles. In graphs, there is no hierarchy, and nodes can have multiple edges connecting them to other nodes.\n",
    "\n",
    "**Tree:** A tree is a data structure in computer science consisting of nodes connected by edges. It is a type of graph but with the restriction that it has a hierarchical structure, meaning that there is a root node with child nodes, each of which may have their own child nodes, and so on. The edges represent the parent-child relationships between the nodes. \n",
    "\n",
    "**Graph vs. Tree:** The main difference between a tree and a graph is that a tree has a hierarchical structure with a root node and child nodes, while a graph can have any arrangement of nodes and edges. A search tree is a specific type of tree data structure used for searching and traversing elements, while a graph can be used for many different purposes.\n",
    "\n",
    "**Search Tree:** A search tree is a specific type of tree data structure used for searching and traversing elements. In a search tree, the arrangement of nodes is based on some specific rules, such as the values of the elements being stored. The nodes are arranged in a way that allows for efficient searching and traversing of elements. Some examples of search trees include binary search trees, AVL trees, and others. \n",
    "\n",
    "The most common type of search tree is the binary search tree, where each node has at most two children. The elements in a binary search tree are ordered in such a way that for each node, all elements in the left subtree are smaller than the node, and all elements in the right subtree are greater than the node.\n",
    "\n",
    "The basic properties of search trees include:\n",
    "\n",
    "- Search time: Search trees allow for efficient searching of elements, with an average time complexity of `O(log n)`, where n is the number of nodes in the tree.\n",
    "- Space complexity: Search trees require less memory compared to other data structures like arrays or linked lists, as they store elements in a hierarchical manner.\n",
    "- Insertion and deletion: Search trees allow for efficient insertion and deletion of elements, with an average time complexity of `O(log n)`.\n",
    "- Ordering: Search trees maintain the order of elements, making it possible to traverse the elements in sorted order.\n",
    "- Balancing: Some search trees, such as AVL trees and red-black trees, are self-balancing, meaning they maintain a balance in the tree even after multiple insertions and deletions. This ensures that the search tree remains efficient even with large numbers of elements.\n",
    "\n",
    "These properties make search trees a useful data structure for various applications, such as database indexing, computer graphics, and algorithms for sorting and searching elements.\n",
    "\n",
    "**Note:** \"Search tree\" and \"binary search tree\" are often used interchangeably to refer to the same type of data structure.\n"
   ]
  },
  {
   "attachments": {},
   "cell_type": "markdown",
   "metadata": {},
   "source": [
    "# 1. DFS/BFS Traversals\n",
    "DFS (Depth-First Search) and BFS (Breadth-First Search) are algorithms for traversing and searching a graph or tree data structure.\n",
    "\n",
    "DFS is a recursive algorithm that starts at the root node and explores as far as possible along each branch before backtracking. The algorithm visits all the vertices of a graph or all the nodes of a tree by going deep into the structure before backtracking.\n",
    "\n",
    "BFS, on the other hand, is an iterative algorithm that visits all the vertices of a graph or all the nodes of a tree in a breadth-wise manner. It visits all the vertices at the same level before moving on to the vertices at the next level. BFS uses a queue to keep track of the vertices to be visited next.\n",
    "\n",
    "                     1\n",
    "                   /   \\\n",
    "                  2     3\n",
    "                /   \\  \n",
    "              4      5 \n",
    "\n",
    "\n",
    "1. Depth First Search (DFS) Traversals: \n",
    "  1. Inorder (Left, Root, Right) : 4 2 5 1 3 \n",
    "  2.  Preorder (Root, Left, Right) : 1 2 4 5 3 \n",
    "  3.  Postorder (Left, Right, Root) : 4 5 2 3 1\n",
    "2. Breadth-First Search (BFS) or Level Order Traversal: 1 2 3 4 5 \n",
    "\n",
    "\n",
    "Time and space complexity: \n",
    "\n",
    "- DFS: The space complexity of the function is `O(h)`, where h is the height of the binary tree. This is because the function uses a recursive approach to traverse the binary tree, and at each recursion, a new function call is added to the call stack. The maximum number of function calls in the call stack would be equal to the height of the binary tree, so the space complexity is `O(h)`. In the worst case, when the binary tree is a skewed tree, the height of the tree would be equal to the number of nodes in the tree, so the space complexity would be `O(n)`. The time complexity is technically `O(V + E)` where `V` is vortex and `E` is edge, but that equates to `O(n + (n-1)) = O(n)` in binary search tree. This is because all trees have n - 1 edges, n being the number of nodes\n",
    "\n",
    "- BFS: The space complexity of the BFS algorithm for a tree is also O(n), because in the worst case, all the nodes in the tree need to be stored in a queue to be processed in order. The size of the queue can grow up to n nodes, so the space complexity is O(n).\n",
    "\n",
    "\n",
    "Let's first create a class of tree to test algorithms:"
   ]
  },
  {
   "cell_type": "code",
   "execution_count": 1,
   "metadata": {},
   "outputs": [],
   "source": [
    "class TreeNode:\n",
    "    def __init__(self, value, left=None, right=None):\n",
    "        self.value = value\n",
    "        self.left = left\n",
    "        self.right = right\n",
    "\n",
    "class Tree:\n",
    "    def __init__(self, root=None):\n",
    "        self.root = root"
   ]
  },
  {
   "attachments": {},
   "cell_type": "markdown",
   "metadata": {},
   "source": [
    "The TreeNode class represents a node in a tree data structure. It has three instance variables: `value`, `left`, and `right`. `value` represents the value stored in the node, `left` is a reference to the left child node, and `right` is a reference to the right child node. The `__init__` method is a constructor that is called when a new TreeNode object is created. The `__init__` method takes in three arguments: `value`, `left`, and `right`. It sets the instance variables `value`, `left`, and `right` to the corresponding arguments. If `left` or `right` is not passed as an argument, it defaults to `None`.\n",
    "\n",
    "The Tree class represents a tree data structure. It has one instance variable: `root`. `root` is a reference to the `root` node of the tree. The `__init__` method is a constructor that is called when a new Tree object is created. The `__init__` method takes in one argument: `root`. It sets the instance variable root to the corresponding argument. If `root` is not passed as an argument, it defaults to `None`.\n",
    "\n",
    "Let's create the above tree:"
   ]
  },
  {
   "cell_type": "code",
   "execution_count": 2,
   "metadata": {},
   "outputs": [],
   "source": [
    "tree = Tree(TreeNode(1, TreeNode(2, TreeNode(4), TreeNode(5)), TreeNode(3)))\n"
   ]
  },
  {
   "attachments": {},
   "cell_type": "markdown",
   "metadata": {},
   "source": [
    "### 1.1. Algorithms for Binary Tree"
   ]
  },
  {
   "attachments": {},
   "cell_type": "markdown",
   "metadata": {},
   "source": [
    "#### DFS: In-order"
   ]
  },
  {
   "cell_type": "code",
   "execution_count": 3,
   "metadata": {},
   "outputs": [],
   "source": [
    "def in_order_traverse(tree, array):\n",
    "    if tree is not None:\n",
    "        in_order_traverse(tree.left, array)\n",
    "        array.append(tree.value)\n",
    "        in_order_traverse(tree.right, array)\n",
    "\n",
    "    return array"
   ]
  },
  {
   "attachments": {},
   "cell_type": "markdown",
   "metadata": {},
   "source": [
    "**Explanation:**\n",
    "\n",
    "The function uses a recursive approach to traverse the binary tree in-order. An in-order traversal of a binary tree visits the left subtree, then the current node, and then the right subtree. If the current node (tree) is not None, the following steps are performed:\n",
    "\n",
    "1. The function calls itself recursively on the left child node of the current node (`in_order_traverse(tree.left, array)`).\n",
    "2. The value of the current node (`tree.value`) is appended to the array list.\n",
    "3. The function calls itself recursively on the right child node of the current node (`in_order_traverse(tree.right, array)`).\n",
    "\n",
    "When the function returns from visiting all the nodes in the left and right subtrees, it returns `array`, which will contain the values of the nodes in the binary tree in the in-order order.\n",
    "\n",
    "**Test:**"
   ]
  },
  {
   "cell_type": "code",
   "execution_count": 4,
   "metadata": {},
   "outputs": [
    {
     "data": {
      "text/plain": [
       "[4, 2, 5, 1, 3]"
      ]
     },
     "execution_count": 4,
     "metadata": {},
     "output_type": "execute_result"
    }
   ],
   "source": [
    "in_order_traverse(tree.root, [])"
   ]
  },
  {
   "attachments": {},
   "cell_type": "markdown",
   "metadata": {},
   "source": [
    "#### DFS: Pre-order"
   ]
  },
  {
   "cell_type": "code",
   "execution_count": 5,
   "metadata": {},
   "outputs": [],
   "source": [
    "def pre_order_traverse(tree, array):\n",
    "    if tree is not None:\n",
    "        array.append(tree.value)\n",
    "        pre_order_traverse(tree.left, array)\n",
    "        pre_order_traverse(tree.right, array)\n",
    "\n",
    "    return array"
   ]
  },
  {
   "attachments": {},
   "cell_type": "markdown",
   "metadata": {},
   "source": [
    "**Explanation:**\n",
    "\n",
    "The function uses a recursive approach to traverse the tree. If the current node (tree) is not None, the following steps are performed:\n",
    "\n",
    "1. The value of the current node (`tree.value`) is appended to the array list.\n",
    "2. The function calls itself recursively on the left child node of the current node (`pre_order_traverse(tree.left, array)`).\n",
    "3. The function calls itself recursively on the right child node of the current node (`pre_order_traverse(tree.right, array)`).\n",
    "\n",
    "When the function returns from visiting all the nodes in the left and right subtrees, it returns `array`, which will contain the values of the nodes in the binary tree in the in-order order.\n",
    "\n",
    "**Test:**"
   ]
  },
  {
   "cell_type": "code",
   "execution_count": 6,
   "metadata": {},
   "outputs": [
    {
     "data": {
      "text/plain": [
       "[1, 2, 4, 5, 3]"
      ]
     },
     "execution_count": 6,
     "metadata": {},
     "output_type": "execute_result"
    }
   ],
   "source": [
    "pre_order_traverse(tree.root, [])"
   ]
  },
  {
   "attachments": {},
   "cell_type": "markdown",
   "metadata": {},
   "source": [
    "#### DFS: Post-order"
   ]
  },
  {
   "cell_type": "code",
   "execution_count": 7,
   "metadata": {},
   "outputs": [],
   "source": [
    "def post_order_traverse(tree, array):\n",
    "    if tree is not None:\n",
    "        post_order_traverse(tree.left, array)\n",
    "        post_order_traverse(tree.right, array)\n",
    "        array.append(tree.value)\n",
    "\n",
    "    return array"
   ]
  },
  {
   "attachments": {},
   "cell_type": "markdown",
   "metadata": {},
   "source": [
    "**Explanation:**\n",
    "\n",
    "The function uses a recursive approach to traverse the tree. If the current node (tree) is not None, the following steps are performed:\n",
    "\n",
    "1. The function calls itself recursively on the left child node of the current node (`post_order_traverse(tree.left, array)`).\n",
    "2. The function calls itself recursively on the right child node of the current node (`post_order_traverse(tree.right, array)`).\n",
    "3. The value of the current node (`tree.value`) is appended to the array list.\n",
    "\n",
    "When the function returns from visiting all the nodes in the left and right subtrees, it returns `array`, which will contain the values of the nodes in the binary tree in the in-order order.\n",
    "\n",
    "**Test:**"
   ]
  },
  {
   "cell_type": "code",
   "execution_count": 8,
   "metadata": {},
   "outputs": [
    {
     "data": {
      "text/plain": [
       "[4, 5, 2, 3, 1]"
      ]
     },
     "execution_count": 8,
     "metadata": {},
     "output_type": "execute_result"
    }
   ],
   "source": [
    "post_order_traverse(tree.root, [])"
   ]
  },
  {
   "attachments": {},
   "cell_type": "markdown",
   "metadata": {},
   "source": [
    "#### BFS"
   ]
  },
  {
   "cell_type": "code",
   "execution_count": 9,
   "metadata": {},
   "outputs": [],
   "source": [
    "def bfs(tree, array):\n",
    "      queue = [tree]\n",
    "      array = []\n",
    "\n",
    "      while len(queue) > 0:\n",
    "          current = queue.pop(0)\n",
    "          array.append(current.value)\n",
    "\n",
    "          if current.left:\n",
    "            queue.append(current.left)\n",
    "          if current.right:\n",
    "            queue.append(current.right)\n",
    "      return array"
   ]
  },
  {
   "attachments": {},
   "cell_type": "markdown",
   "metadata": {},
   "source": [
    "**Explanation:**\n",
    "\n",
    "The algorithm starts by initializing an empty queue and an array, and adding the root node of the tree to the queue. Then, it enters a while loop that continues as long as there are nodes in the queue.\n",
    "\n",
    "In each iteration of the while loop, the first node in the queue (the node at the front of the queue) is removed and its value is appended to the array. If the current node has a left child, it is added to the end of the queue. Similarly, if the current node has a right child, it is also added to the end of the queue.\n",
    "\n",
    "Once all nodes have been processed, the final array that contains the values of the nodes in breadth-first order is returned.\n",
    "\n",
    "**Test:**"
   ]
  },
  {
   "cell_type": "code",
   "execution_count": 10,
   "metadata": {},
   "outputs": [
    {
     "data": {
      "text/plain": [
       "[1, 2, 3, 4, 5]"
      ]
     },
     "execution_count": 10,
     "metadata": {},
     "output_type": "execute_result"
    }
   ],
   "source": [
    "bfs(tree.root, [])"
   ]
  },
  {
   "attachments": {},
   "cell_type": "markdown",
   "metadata": {},
   "source": [
    "### 1.2. Algorithms for N-array Tree"
   ]
  },
  {
   "cell_type": "code",
   "execution_count": 11,
   "metadata": {},
   "outputs": [],
   "source": [
    "def pre_order_traverse_n_arr(tree, array):\n",
    "    if tree is not None:\n",
    "      for child in tree.children:\n",
    "        array.append(child.value)\n",
    "        pre_order_traverse_n_arr(child, array)\n",
    "    return array\n",
    "\n",
    "#------------------------------------------------------\n",
    "def post_order_traverse_n_arr(tree, array):\n",
    "    if tree is not None:\n",
    "      for child in tree.children:\n",
    "        post_order_traverse_n_arr(child, array)\n",
    "        array.append(child.value)\n",
    "    return array\n",
    " \n",
    "#------------------------------------------------------\n",
    "def bfs_n_arr(tree, array):\n",
    "      queue = [tree.value]\n",
    "      array = []\n",
    "\n",
    "      while len(queue) > 0:\n",
    "          current = queue.pop(0)\n",
    "          array.append(current.name)\n",
    "\n",
    "          for child in current.children:\n",
    "              queue.append(child)\n",
    "      return array"
   ]
  },
  {
   "attachments": {},
   "cell_type": "markdown",
   "metadata": {},
   "source": [
    "**Explanation:**\n",
    "\n",
    "The main difference is that instead of checking left and right, it checks all of child of children. If the given tree node is not None, the function iterates through its children and appends the value of each child node to the array."
   ]
  },
  {
   "attachments": {},
   "cell_type": "markdown",
   "metadata": {},
   "source": [
    "### 1.3. Algorithms for Graph"
   ]
  },
  {
   "attachments": {},
   "cell_type": "markdown",
   "metadata": {},
   "source": [
    "The time complexity of the DFS algorithm in a graph is `O(V + E)`, where `V` is the number of vertices and `E` is the number of edges. This is because the algorithm visits every vertex and edge once.\n",
    "\n",
    "The space complexity of the DFS algorithm is `O(V)`, where `V` is the number of vertices. This is because the algorithm uses a stack to keep track of the vertices that need to be visited, and the maximum size of the stack is equal to the number of vertices.\n",
    "\n",
    "The time complexity of the BFS algorithm in a graph is `O(V + E)`, where `V` is the number of vertices and E is the number of edges. This is because the algorithm visits every vertex and edge once.\n",
    "\n",
    "The space complexity of the BFS algorithm is `O(V)`, where `V` is the number of vertices. This is because the algorithm uses a queue to keep track of the vertices that need to be visited, and the maximum size of the queue is equal to the number of vertices."
   ]
  },
  {
   "attachments": {},
   "cell_type": "markdown",
   "metadata": {},
   "source": [
    "#### DFS"
   ]
  },
  {
   "cell_type": "code",
   "execution_count": 12,
   "metadata": {},
   "outputs": [],
   "source": [
    "def dfs(graph, node, visited):\n",
    "    if node not in visited:\n",
    "        visited.append(node)\n",
    "        for neighbor in graph[node]:\n",
    "            dfs(graph, neighbor, visited)\n",
    "    return visited\n"
   ]
  },
  {
   "attachments": {},
   "cell_type": "markdown",
   "metadata": {},
   "source": [
    "**Explanation:**\n",
    "\n",
    "- If the current node has not been visited, it is added to the visited list.\n",
    "- The algorithm then iterates over the neighbors of the current node and calls the function recursively on each neighbor.\n",
    "- This process continues until all nodes connected to the starting node have been visited.\n",
    "- Finally, the visited list is returned, which represents the nodes visited in a DFS order.\n",
    "\n",
    "**Test:**"
   ]
  },
  {
   "cell_type": "code",
   "execution_count": 13,
   "metadata": {},
   "outputs": [
    {
     "name": "stdout",
     "output_type": "stream",
     "text": [
      "['A', 'B', 'D', 'E', 'F', 'C']\n"
     ]
    }
   ],
   "source": [
    "graph = {\n",
    "    'A': ['B', 'C'],\n",
    "    'B': ['A', 'D', 'E'],\n",
    "    'C': ['A', 'F'],\n",
    "    'D': ['B'],\n",
    "    'E': ['B', 'F'],\n",
    "    'F': ['C', 'E']\n",
    "}\n",
    "visited_dfs = dfs(graph, 'A', [])\n",
    "print(visited_dfs)"
   ]
  },
  {
   "attachments": {},
   "cell_type": "markdown",
   "metadata": {},
   "source": [
    "#### BFS"
   ]
  },
  {
   "cell_type": "code",
   "execution_count": 14,
   "metadata": {},
   "outputs": [],
   "source": [
    "def bfs(graph, start_node):\n",
    "    visited = []\n",
    "    queue = [start_node]\n",
    "    while queue:\n",
    "        node = queue.pop(0)\n",
    "        if node not in visited:\n",
    "            visited.append(node)\n",
    "            neighbors = graph[node]\n",
    "            for neighbor in neighbors:\n",
    "                queue.append(neighbor)\n",
    "    return visited"
   ]
  },
  {
   "attachments": {},
   "cell_type": "markdown",
   "metadata": {},
   "source": [
    "**Explanation:**\n",
    "\n",
    "The algorithm starts with a given start_node, adds it to an initially empty queue, and adds it to the visited list to mark it as visited.\n",
    "\n",
    "In each iteration of the while loop, it takes the first node from the queue, adds its unvisited neighbors to the end of the queue and marks the node as visited by adding it to the visited list.\n",
    "\n",
    "The algorithm terminates when the queue is empty, and returns the visited list, which contains all the nodes visited in the order they were visited using the BFS algorithm. \n",
    "\n",
    "**Test:**"
   ]
  },
  {
   "cell_type": "code",
   "execution_count": 15,
   "metadata": {},
   "outputs": [
    {
     "name": "stdout",
     "output_type": "stream",
     "text": [
      "['A', 'B', 'C', 'D', 'E', 'F']\n"
     ]
    }
   ],
   "source": [
    "visited_bfs = bfs(graph, 'A')\n",
    "print(visited_bfs)"
   ]
  },
  {
   "attachments": {},
   "cell_type": "markdown",
   "metadata": {},
   "source": [
    "Note that the above code traverses only the vertices reachable from a given source vertex. In every situation, all the vertices may not be reachable from a given vertex (i.e. for a disconnected graph). \n",
    "\n",
    "We can modify the BFS function to do traversal starting from all nodes one by one "
   ]
  },
  {
   "cell_type": "code",
   "execution_count": 16,
   "metadata": {},
   "outputs": [],
   "source": [
    "def bfs_disconnected_graph(graph):\n",
    "    visited = []\n",
    "    for node in graph:\n",
    "        if node not in visited:\n",
    "            queue = [node]\n",
    "            while queue:\n",
    "                curr_node = queue.pop(0)\n",
    "                if curr_node not in visited:\n",
    "                    visited.append(curr_node)\n",
    "                    for neighbor in graph[curr_node]:\n",
    "                        queue.append(neighbor)\n",
    "    return visited"
   ]
  },
  {
   "cell_type": "code",
   "execution_count": 17,
   "metadata": {},
   "outputs": [
    {
     "name": "stdout",
     "output_type": "stream",
     "text": [
      "Old function:  ['A', 'B', 'C', 'D', 'E', 'F']\n",
      "Modified function function:  ['A', 'B', 'C', 'D', 'E', 'F', 'G', 'H']\n"
     ]
    }
   ],
   "source": [
    "disconnected_graph = {\n",
    "    'A': ['B', 'C'],\n",
    "    'B': ['A', 'D', 'E'],\n",
    "    'C': ['A', 'F'],\n",
    "    'D': ['B'],\n",
    "    'E': ['B', 'F'],\n",
    "    'F': ['C', 'E'],\n",
    "    'G' : ['H'],\n",
    "    'H' : ['G']\n",
    "}\n",
    "\n",
    "visited_bfs = bfs(graph, 'A')\n",
    "print(\"Old function: \", visited_bfs)\n",
    "\n",
    "visited_dfs = bfs_disconnected_graph(disconnected_graph)\n",
    "print(\"Modified function function: \", visited_dfs)"
   ]
  },
  {
   "attachments": {},
   "cell_type": "markdown",
   "metadata": {},
   "source": [
    "So old function cannot handle G -- H connection."
   ]
  },
  {
   "attachments": {},
   "cell_type": "markdown",
   "metadata": {},
   "source": [
    "# 2. Maximum Path Sum in a Binary Tree\n",
    "\n",
    "Maximum Path Sum in a Binary Tree is a problem in computer science that involves finding the maximum sum of values that can be obtained by traversing a path in a binary tree. In this problem, a path is defined as a sequence of connected nodes in a tree, and the sum of the path is the sum of the values of the nodes in the path."
   ]
  },
  {
   "cell_type": "code",
   "execution_count": 18,
   "metadata": {},
   "outputs": [],
   "source": [
    "# Definition of a binary tree node\n",
    "class TreeNode:\n",
    "    def __init__(self, value=0, left=None, right=None):\n",
    "        self.value = value\n",
    "        self.left = left\n",
    "        self.right = right\n",
    "\n",
    "# Function to find the maximum path sum in a binary tree\n",
    "def max_path_sum(tree):\n",
    "    _, max_sum = find_max_sum(tree)\n",
    "    return max_sum\n",
    "\n",
    "# Helper function to recursively find the maximum path sum\n",
    "def find_max_sum(tree):\n",
    "    if tree is None:\n",
    "        return (0, float(\"-inf\"))\n",
    "\n",
    "    left_max_sum_as_branch, left_max_path_sum = find_max_sum(tree.left)\n",
    "    right_max_sum_as_branch, right_max_path_sum = find_max_sum(tree.right)\n",
    "\n",
    "    max_child_sum_as_branch = max(left_max_sum_as_branch, right_max_sum_as_branch)\n",
    "    max_sum_as_branch = max(max_child_sum_as_branch + tree.value, tree.value)\n",
    "    max_sum_as_root_node = max(left_max_sum_as_branch + tree.value + right_max_sum_as_branch, max_sum_as_branch)\n",
    "    max_path_sum = max(left_max_path_sum, right_max_path_sum, max_sum_as_root_node)\n",
    "\n",
    "    return (max_sum_as_branch, max_path_sum)\n",
    "\n"
   ]
  },
  {
   "attachments": {},
   "cell_type": "markdown",
   "metadata": {},
   "source": [
    "**Explanation:**\n",
    "\n",
    "The `find_max_sum` function is a recursive helper function that helps to find the maximum path sum of a binary tree. It takes a binary tree node as its input and returns a tuple of two values: the maximum sum that can be achieved by a path that ends at the given node, and the maximum sum that can be achieved by any path in the subtree rooted at the given node.\n",
    "\n",
    "The function first checks if the given node is None. If it is, it returns a tuple of (0, negative infinity) which indicates that the maximum sum is zero since there are no nodes to include in the path and negative infinity as the maximum sum is initially unknown.\n",
    "\n",
    "If the node is not None, it calls the find_max_sum function recursively on the left and right subtrees of the node. The returned values represent the maximum sum that can be achieved by a path that ends at the left and right child nodes respectively, as well as the maximum sum that can be achieved in the left and right subtrees.\n",
    "\n",
    "The function then calculates the maximum sum that can be achieved by a path that ends at the current node. This can be done by finding the maximum sum that can be achieved by a path that ends at the left or right child node, and adding the value of the current node to it. If the sum is negative, then the current node is not included in the path, so the sum is just the value of the current node.\n",
    "\n",
    "Next, the maximum sum that can be achieved by any path that includes the current node as the root is calculated. This can be done by adding the maximum sum that can be achieved by a path that ends at the left child node, the value of the current node, and the maximum sum that can be achieved by a path that ends at the right child node. This value is then compared to the maximum sum that can be achieved by a path in the left or right subtrees, as well as the previously calculated maximum sum that can be achieved by a path that ends at the current node.\n",
    "\n",
    "Finally, the function returns a tuple of the maximum sum that can be achieved by a path that ends at the current node, and the maximum sum that can be achieved by any path in the subtree rooted at the current node.\n",
    "\n",
    "**Space and time complexity**\n",
    "The time complexity of the find_max_sum function is `O(n)`, where n is the total number of nodes in the binary tree. This is because the function traverses each node in the tree exactly once.\n",
    "\n",
    "The space complexity of the function is `O(log(n))`, where n is the total number of nodes in the binary tree. This is because the function uses the call stack to keep track of the recursive calls made to traverse the left and right sub-trees of the binary tree. The maximum depth of the call stack is the height of the binary tree, which is log(n) for a balanced binary tree.\n",
    "\n",
    "**Test:**"
   ]
  },
  {
   "cell_type": "code",
   "execution_count": 19,
   "metadata": {},
   "outputs": [],
   "source": [
    "# Test function to validate the implementation\n",
    "def test_max_path_sum():\n",
    "    # Test Case 1\n",
    "    root = TreeNode(1)\n",
    "    root.left = TreeNode(2)\n",
    "    root.right = TreeNode(3)\n",
    "    assert max_path_sum(root) == 6\n",
    "    \n",
    "    # Test Case 2\n",
    "    root = TreeNode(-10)\n",
    "    root.left = TreeNode(9)\n",
    "    root.right = TreeNode(20)\n",
    "    root.right.left = TreeNode(15)\n",
    "    root.right.right = TreeNode(7)\n",
    "    assert max_path_sum(root) == 42\n",
    "    \n",
    "    # Test Case 3\n",
    "    root = TreeNode(-3)\n",
    "    assert max_path_sum(root) == -3\n",
    "\n",
    "    print(\"All test cases passed.\")"
   ]
  },
  {
   "cell_type": "code",
   "execution_count": 20,
   "metadata": {},
   "outputs": [
    {
     "name": "stdout",
     "output_type": "stream",
     "text": [
      "All test cases passed.\n"
     ]
    }
   ],
   "source": [
    "test_max_path_sum()"
   ]
  },
  {
   "attachments": {},
   "cell_type": "markdown",
   "metadata": {},
   "source": [
    "# 3. Check if a given array can represent Preorder Traversal of Binary Search Tree"
   ]
  },
  {
   "cell_type": "code",
   "execution_count": 21,
   "metadata": {},
   "outputs": [],
   "source": [
    "def can_represent_preorder(preorder):\n",
    "    stack = []\n",
    "    root = float('-inf')\n",
    "    \n",
    "    for val in preorder:\n",
    "        if val < root:\n",
    "            return False\n",
    "        \n",
    "        while stack and stack[-1] < val:\n",
    "            root = stack.pop()\n",
    "            \n",
    "        stack.append(val)\n",
    "        \n",
    "    return True\n"
   ]
  },
  {
   "attachments": {},
   "cell_type": "markdown",
   "metadata": {},
   "source": [
    "**Explanation:**\n",
    "\n",
    "To check if a given array can represent the preorder traversal of a binary search tree, we can follow these steps:\n",
    "\n",
    "1. Initialize an empty stack and set the root to be the minimum possible value.\n",
    "2. Iterate through each element of the array.\n",
    "3. If the current element is less than the stack's top element, return False as it violates the BST property.\n",
    "4. If the current element is greater than the stack's top element, remove all the elements from the stack that are less than the current element and set the last removed element as the parent node of the current element.\n",
    "5. Push the current element onto the stack.\n",
    "6. If we reach the end of the array, return True.\n",
    "\n",
    "**Space and time complexity**\n",
    "The time complexity of this algorithm is `O(n)`, where n is the length of the preorder array, since we iterate through each element once. The space complexity is `O(n)` as well since the stack can store at most n elements."
   ]
  },
  {
   "attachments": {},
   "cell_type": "markdown",
   "metadata": {},
   "source": [
    "## 4. Check whether a binary tree is a full binary tree or not\n",
    "A full binary tree is a binary tree in which every node has either 0 or 2 children. To check whether a binary tree is a full binary tree, we can perform a traversal and check if each node has either 0 or 2 children."
   ]
  },
  {
   "cell_type": "code",
   "execution_count": 22,
   "metadata": {},
   "outputs": [],
   "source": [
    "class Node:\n",
    "    def __init__(self, val=None, left=None, right=None):\n",
    "        self.val = val\n",
    "        self.left = left\n",
    "        self.right = right\n",
    "\n",
    "def is_full_binary_tree(root):\n",
    "    if not root:\n",
    "        return True\n",
    "\n",
    "    # If the node is a leaf node, it is a full binary tree\n",
    "    if not root.left and not root.right:\n",
    "        return True\n",
    "\n",
    "    # If the node has both left and right children, recursively check the left and right subtrees\n",
    "    if root.left and root.right:\n",
    "        return is_full_binary_tree(root.left) and is_full_binary_tree(root.right)\n",
    "\n",
    "    # If the node has only one child, it is not a full binary tree\n",
    "    return False"
   ]
  },
  {
   "attachments": {},
   "cell_type": "markdown",
   "metadata": {},
   "source": [
    "**Explanation:**\n",
    "\n",
    "The function checks if the root node is `None`, in which case it returns `True` because an empty tree is considered a full binary tree. If the root node has no children, the function returns `True`. If the root node has only one child, the function returns `False` because a full binary tree must have either no children or two children for every node.\n",
    "\n",
    "If the root node has two children, the function recursively calls itself on both children to check if they are also full binary trees. If both children are full binary trees, the function returns `True`, otherwise it returns `False`.\n",
    "\n",
    "**Space and time complexity**\n",
    "The time complexity of this function is `O(n)`, where `n` is the number of nodes in the tree, because it needs to check every node in the tree to determine if it is a full binary tree. The space complexity of this function is `O(h)`, where `h` is the height of the tree, because it uses recursive calls to check if the left and right subtrees are full binary trees.\n",
    "\n",
    "**Test:**"
   ]
  },
  {
   "cell_type": "code",
   "execution_count": 23,
   "metadata": {},
   "outputs": [
    {
     "name": "stdout",
     "output_type": "stream",
     "text": [
      "True\n",
      "False\n"
     ]
    }
   ],
   "source": [
    "# Create a full binary tree\n",
    "root = Node(1)\n",
    "root.left = Node(2)\n",
    "root.right = Node(3)\n",
    "root.left.left = Node(4)\n",
    "root.left.right = Node(5)\n",
    "root.right.left = Node(6)\n",
    "root.right.right = Node(7)\n",
    "\n",
    "print(is_full_binary_tree(root))  # Output: True\n",
    "\n",
    "# Create a binary tree that is not full\n",
    "root = Node(1)\n",
    "root.left = Node(2)\n",
    "root.right = Node(3)\n",
    "root.left.left = Node(4)\n",
    "\n",
    "print(is_full_binary_tree(root))  # Output: False"
   ]
  },
  {
   "attachments": {},
   "cell_type": "markdown",
   "metadata": {},
   "source": [
    "## 5. Bottom and top View of a Binary Tree\n",
    "\n",
    "- Bottum view\n",
    "\n",
    "                      20\n",
    "                    /    \\\n",
    "                  8       22\n",
    "                /   \\      \\\n",
    "              5      3      25\n",
    "                    / \\      \n",
    "                  10    14\n",
    "                  \n",
    "For the above tree, the output should be 5, 10, 3, 14, 25.\n",
    "\n",
    "- Top view\n",
    "\n",
    "                      20\n",
    "                    /    \\\n",
    "                  8       22\n",
    "                /   \\      \\\n",
    "              5      3      25\n",
    "                    / \\      \n",
    "                  10    14\n",
    "\n",
    "Top view of the above binary tree is 5 8 20 22 25\n"
   ]
  },
  {
   "cell_type": "code",
   "execution_count": 24,
   "metadata": {},
   "outputs": [],
   "source": [
    "def top_view(root, map, dist, level):\n",
    "     \n",
    "    # Base case\n",
    "    if root is None:\n",
    "        return\n",
    "     \n",
    "    # If current level is more than or equal\n",
    "    # to maximum level seen so far for the\n",
    "    # same horizontal distance or horizontal\n",
    "    # distance is seen for the first time,\n",
    "    # update the dictionary\n",
    "    if dist in map:\n",
    "        if map[dist][1] > level:\n",
    "            map[dist] = [root.val, level]\n",
    "    else:\n",
    "        map[dist] = [root.val, level]\n",
    "         \n",
    "    # recur for left subtree by decreasing\n",
    "    # horizontal distance and increasing\n",
    "    # level by 1\n",
    "    top_view(root.left, map, dist - 1, level + 1)\n",
    "     \n",
    "    # recur for right subtree by increasing\n",
    "    # horizontal distance and increasing\n",
    "    # level by 1\n",
    "    top_view(root.right, map, dist + 1, level + 1)\n",
    "\n",
    "\n",
    "def bottom_view(root, map, dist, level):\n",
    "     \n",
    "    # Base case\n",
    "    if root is None:\n",
    "        return\n",
    "     \n",
    "    # If current level is lwess than or equal\n",
    "    # to maximum level seen so far for the\n",
    "    # same horizontal distance or horizontal\n",
    "    # distance is seen for the first time,\n",
    "    # update the dictionary\n",
    "    if dist in map:\n",
    "        if map[dist][1] < level:\n",
    "            map[dist] = [root.val, level]\n",
    "    else:\n",
    "        map[dist] = [root.val, level]\n",
    "         \n",
    "    # recur for left subtree by decreasing\n",
    "    # horizontal distance and increasing\n",
    "    # level by 1\n",
    "    bottom_view(root.left, map, dist - 1, level + 1)\n",
    "     \n",
    "    # recur for right subtree by increasing\n",
    "    # horizontal distance and increasing\n",
    "    # level by 1\n",
    "    bottom_view(root.right, map, dist + 1, level + 1)"
   ]
  },
  {
   "attachments": {},
   "cell_type": "markdown",
   "metadata": {},
   "source": [
    "**Explanation:**\n",
    "\n",
    "The `top_view` function recursively traverses the binary tree and maintains a dictionary map which stores the values and levels of the nodes in the top view. The dist parameter is the horizontal distance of the current node from the root node, and the level parameter is the current level of the node in the tree.\n",
    "\n",
    "The function first checks if the dist value is already present in the map dictionary. If it is, then it checks if the level of the current node is less than the level of the node already present in the map dictionary for the same dist. If it is less, then the current node is more towards the top view of the tree, so it replaces the existing node in the map dictionary with the current node.\n",
    "\n",
    "If the dist value is not present in the map dictionary, then the current node is the first node seen at this horizontal distance. So, it adds the current node to the map dictionary.\n",
    "\n",
    "The `bottom_view` function is similar to the `top_view` function, but it maintains a dictionary map for the bottom view of the binary tree. Here, the function checks if the level value of the current node is greater than the level of the node already present in the map dictionary for the same dist. If it is greater, then the current node is more towards the bottom view of the tree, so it replaces the existing node in the map dictionary with the current node.\n",
    "\n",
    "Now we can write a function to print these views:"
   ]
  },
  {
   "cell_type": "code",
   "execution_count": 25,
   "metadata": {},
   "outputs": [],
   "source": [
    "def print_top_bottom_view(root):\n",
    "     \n",
    "    map_top = {}\n",
    "    top_view(root, map_top, 0, 0)\n",
    "\n",
    "    print('Top View \\n')\n",
    "    for i in sorted(map_top.keys()):\n",
    "        print(map_top[i][0], end = \" \")\n",
    "\n",
    "    map_bottom = {}\n",
    "    bottom_view(root, map_bottom, 0, 0)\n",
    "    \n",
    "    print('\\n')\n",
    "    print('Bottom View \\n')\n",
    "    for i in sorted(map_bottom.keys()):\n",
    "        print(map_bottom[i][0], end = \" \")\n"
   ]
  },
  {
   "attachments": {},
   "cell_type": "markdown",
   "metadata": {},
   "source": [
    "The `printTopBottomView` function takes the root of the binary tree as input and calls two helper functions top_view and bottom_view to find the top and bottom views of the tree respectively. It then prints the values of the top and bottom views in separate lines."
   ]
  },
  {
   "cell_type": "code",
   "execution_count": 26,
   "metadata": {},
   "outputs": [],
   "source": [
    "class newNode:\n",
    " \n",
    "    # Construct to create a newNode\n",
    "    def __init__(self, val):\n",
    "        self.val = val\n",
    "        self.left = None\n",
    "        self.right = None\n",
    "        self.dist = 0\n",
    " \n",
    "root = newNode(20)\n",
    "root.left = newNode(8)\n",
    "\n",
    "root.left.left = newNode(5)\n",
    "root.left.right = newNode(3)\n",
    "\n",
    "root.left.right.left = newNode(10)\n",
    "root.left.right.right = newNode(14)\n",
    "\n",
    "\n",
    "root.right = newNode(22)\n",
    "\n",
    "root.right.right = newNode(25)\n",
    "\n"
   ]
  },
  {
   "cell_type": "code",
   "execution_count": 27,
   "metadata": {},
   "outputs": [
    {
     "name": "stdout",
     "output_type": "stream",
     "text": [
      "Top View \n",
      "\n",
      "5 8 20 22 25 \n",
      "\n",
      "Bottom View \n",
      "\n",
      "5 10 3 14 25 "
     ]
    }
   ],
   "source": [
    "print_top_bottom_view(root)"
   ]
  },
  {
   "attachments": {},
   "cell_type": "markdown",
   "metadata": {},
   "source": [
    "## 6. Validate BST\n",
    "\n",
    "Write a Python code that checks whether a given binary tree is a valid binary search tree (BST). "
   ]
  },
  {
   "cell_type": "code",
   "execution_count": 28,
   "metadata": {},
   "outputs": [],
   "source": [
    "# O(n) time | O(d) space (d is depth of the tree) --> space in call stack\n",
    "def validate_bst(tree):\n",
    "    return validate_bst_helper(tree, float(\"-inf\"),  float(\"inf\"))\n",
    "\n",
    "\n",
    "def validate_bst_helper(tree, min_value, max_value):\n",
    "    if tree is None:\n",
    "        return True\n",
    "\n",
    "    if tree.value < min_value or tree.value >= max_value:\n",
    "        return False\n",
    "\n",
    "    left_validate = validate_bst_helper(tree.left, min_value, tree.value)\n",
    "    right_validate = validate_bst_helper(tree.right, tree.value, max_value)\n",
    "\n",
    "    return left_validate and right_validate"
   ]
  },
  {
   "attachments": {},
   "cell_type": "markdown",
   "metadata": {},
   "source": [
    "**Explanation:**\n",
    "\n",
    "The function works by recursively traversing the tree and keeping track of the minimum and maximum possible values that each node can take, based on the values of its parent and ancestors.\n",
    "\n",
    "The `validate_bst_helper()` function takes three arguments: the current node, the minimum possible value for the current node, and the maximum possible value for the current node. It returns True if the current node satisfies the conditions for a valid binary search tree, and False otherwise.\n",
    "\n",
    "The conditions for a valid binary search tree are:\n",
    "\n",
    "1. The value of the current node should be greater than the minimum value for the node, and less than the maximum value for the node.\n",
    "2. The left subtree of the current node should also be a valid binary search tree with a maximum value less than the current node's value.\n",
    "3. The right subtree of the current node should also be a valid binary search tree with a minimum value greater than the current node's value.\n",
    "\n",
    "If any of these conditions are violated, the function returns `False`. Otherwise, it recurses on the left and right subtrees, updating the minimum and maximum values accordingly.\n",
    "\n",
    "The main `validate_bst()` function simply calls the `validate_bst_helper()` function with the root of the tree and the minimum and maximum possible values for a node.\n",
    "\n",
    "The time complexity of this algorithm is `O(n)`, where n is the number of nodes in the binary tree, because it visits every node exactly once. The space complexity is `O(d)`, where `d` is the depth of the binary tree, because the function calls itself recursively d times, and each call takes up a certain amount of space on the call stack."
   ]
  },
  {
   "attachments": {},
   "cell_type": "markdown",
   "metadata": {},
   "source": []
  }
 ],
 "metadata": {
  "kernelspec": {
   "display_name": "base",
   "language": "python",
   "name": "python3"
  },
  "language_info": {
   "codemirror_mode": {
    "name": "ipython",
    "version": 3
   },
   "file_extension": ".py",
   "mimetype": "text/x-python",
   "name": "python",
   "nbconvert_exporter": "python",
   "pygments_lexer": "ipython3",
   "version": "3.9.13"
  },
  "orig_nbformat": 4,
  "vscode": {
   "interpreter": {
    "hash": "05655b172e02d0543f4689a9fd02cca4a7857b55ad1449565d55716c4230d5c1"
   }
  }
 },
 "nbformat": 4,
 "nbformat_minor": 2
}
