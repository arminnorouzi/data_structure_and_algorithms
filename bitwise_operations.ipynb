{
 "cells": [
  {
   "attachments": {},
   "cell_type": "markdown",
   "metadata": {},
   "source": [
    "# Bitwise Algorithms\n",
    "**by Armin Norouzi**\n",
    "\n",
    "In this notebook, we will examine numerous bitwise algorithms and how they are used in software engineering and computer science. We will go over the key ideas and methods that each software engineer should be familiar with, from bit manipulation techniques to optimization tactics. Prepare yourself to enter the realm of bits and bytes!\n",
    "\n",
    "## Bitwise operations in Python \n",
    "\n",
    "Bitwise operations are a group of elementary operations that deal with a binary number's constituent bits. These operations include left shift, right shift, bitwise AND, OR, XOR, and NOT. These operations are used to efficiently manipulate bits at the bit level and can be applied to tasks like determining whether a particular bit is set or clearing a particular bit. Bitwise operations are particularly useful in low-level languages such as C and C++, but are also available in high-level languages such as Python. Here is the operator of bit manipulation in Python:\n",
    "\n",
    "\n",
    "| OPERATOR | DESCRIPTION       | RETURNS |\n",
    "| -------  | ----------- | ------------|\n",
    "| &        | Bitwise AND | Returns 1 if both the bits are 1 else 0 \n",
    "| $|$      | Bitwise OR  | Returns 1 if either of the bit is 1 else 0 \n",
    "| ~        | Bitwise NOT | Returns one’s complement of the number\n",
    "| ^        | Bitwise XOR | Returns 1 if one of the bits is 1 and the other is 0 else returns 0\n",
    "| >>       | Bitwise right shift | Returns 1 if both the bits are 1 else 0 \n",
    "| <<       | Bitwise left shift | Returns 1 if both the bits are 1 else 0  \n"
   ]
  },
  {
   "attachments": {},
   "cell_type": "markdown",
   "metadata": {},
   "source": [
    "## 1. Find $n^{th}$ magic number\n",
    "\n",
    "**Question**\n",
    "\n",
    "A \"magic number\" is a number that has a specific mathematical property. A magic number is defined as a number that can be expressed as a power of 5 or the sum of unique powers of 5. \n",
    "\n",
    "For example, the first few magic numbers are 5, 25, 30 (5 + 25), 125, 130 (125 + 5), and so on. The number 5 is a magic number because it is a power of 5 (5^1). The number 25 is also a magic number because it is a power of 5 (5^2). The number 30 is a magic number because it is the sum of unique powers of 5 (5^1 + 5^2). See the table for more detail. \n",
    "\n",
    "\n",
    "| N                    | DESCRIPTION       |\n",
    "| -------              | ----------- | \n",
    "| N = 1  -- > 001      | 5 = 1 * 5^1 |\n",
    "| N = 2  -- > 010      | 25 = 1 * 5^2  |\n",
    "| N = 3  -- > 011      | 30 = 1 * 5^2 + 1 * 5^1 | \n",
    "| N = 4  -- > 100      | 125 = 1 * 5^3 | \n",
    "| N = 5  -- > 101      | 130 = 1 * 5^3 + 1 * 5^1 | \n",
    "\n",
    "Write a function to find the nth Magic number.\n",
    "\n",
    "**Code**"
   ]
  },
  {
   "cell_type": "code",
   "execution_count": 1,
   "metadata": {},
   "outputs": [],
   "source": [
    "def nth_magic_number(n: int) -> int:\n",
    "    \"\"\"\n",
    "    Finds the nth magic number. A magic number is defined as a number \n",
    "    which can be expressed as a power of 5 or sum of unique powers of 5.\n",
    "    \"\"\"\n",
    "    pow_of_5 = 1\n",
    "    magic_number = 0\n",
    "\n",
    "    # Go through every bit of n\n",
    "    while n:\n",
    "        pow_of_5 *= 5\n",
    "\n",
    "         # If last bit of n is set\n",
    "        if n & 1:\n",
    "            magic_number += pow_of_5\n",
    "\n",
    "        # proceed to next bit\n",
    "        n >>= 1\n",
    "    return magic_number\n",
    "\n"
   ]
  },
  {
   "attachments": {},
   "cell_type": "markdown",
   "metadata": {},
   "source": [
    "**Explanation**\n",
    "\n",
    "The function finds the magic number by utilizing bit manipulation and a mathematical property of magic numbers.\n",
    "\n",
    "The function starts by setting two variables, `pow` and `answer` to 1. The variable `pow` is used to keep track of the current power of 5, and `answer` is used to store the final magic number.\n",
    "\n",
    "The function then enters a `while` loop that runs as long as the value of `n` is greater than 0. Inside the while loop, `pow` is multiplied by 5 on each iteration. This is done to calculate the next power of 5.\n",
    "\n",
    "If the last bit of n is set (i.e. if n & 1 evaluates to True), the current power of 5 stored in `pow` is added to the answer variable.\n",
    "\n",
    "The last step of each iteration is to proceed to the next bit of `n` by using the bitwise right shift operator `n >>= 1` (or n = n/2). This effectively divides `n` by 2 and discards the least significant bit.\n",
    "\n",
    "When the while loop finishes, the final magic number is stored in the `answer` variable, and the function returns it.\n",
    "\n",
    "The time complexity of this function is `O(log(n))` because the while loop runs for `log(n)` times. This is because for each iteration, it is checking the next bit of n, which doubles the number of bits being checked. The space complexity is `O(1)` because the function only uses a constant amount of space, regardless of the input size.\n",
    "\n",
    "**Test**"
   ]
  },
  {
   "cell_type": "code",
   "execution_count": 2,
   "metadata": {},
   "outputs": [
    {
     "name": "stderr",
     "output_type": "stream",
     "text": [
      "test_nth_magic_number (__main__.TestNthMagicNumber) ... ok\n",
      "\n",
      "----------------------------------------------------------------------\n",
      "Ran 1 test in 0.001s\n",
      "\n",
      "OK\n"
     ]
    }
   ],
   "source": [
    "import unittest\n",
    "\n",
    "class TestNthMagicNumber(unittest.TestCase):\n",
    "\n",
    "    def test_nth_magic_number(self):\n",
    "        self.assertEqual(nth_magic_number(1), 5)\n",
    "        self.assertEqual(nth_magic_number(2), 25)\n",
    "        self.assertEqual(nth_magic_number(3), 30)\n",
    "        self.assertEqual(nth_magic_number(4), 125)\n",
    "        self.assertEqual(nth_magic_number(5), 130)\n",
    "\n",
    "res = unittest.main(argv=[''], verbosity=3, exit=False)\n",
    "assert len(res.result.failures) == 0"
   ]
  }
 ],
 "metadata": {
  "kernelspec": {
   "display_name": "base",
   "language": "python",
   "name": "python3"
  },
  "language_info": {
   "codemirror_mode": {
    "name": "ipython",
    "version": 3
   },
   "file_extension": ".py",
   "mimetype": "text/x-python",
   "name": "python",
   "nbconvert_exporter": "python",
   "pygments_lexer": "ipython3",
   "version": "3.8.8"
  },
  "orig_nbformat": 4,
  "vscode": {
   "interpreter": {
    "hash": "05655b172e02d0543f4689a9fd02cca4a7857b55ad1449565d55716c4230d5c1"
   }
  }
 },
 "nbformat": 4,
 "nbformat_minor": 2
}
