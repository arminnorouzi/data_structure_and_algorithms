{
 "cells": [
  {
   "attachments": {},
   "cell_type": "markdown",
   "metadata": {},
   "source": [
    "# Tree & Graph\n",
    "\n",
    "**by Armin Norouzi**"
   ]
  },
  {
   "attachments": {},
   "cell_type": "markdown",
   "metadata": {},
   "source": [
    "**Graph:** A graph is a collection of vertices (nodes) and edges connecting the vertices. Graphs can be directed or undirected, weighted or unweighted, and can have cycles. In graphs, there is no hierarchy, and nodes can have multiple edges connecting them to other nodes.\n",
    "\n",
    "**Tree:** A tree is a data structure in computer science consisting of nodes connected by edges. It is a type of graph but with the restriction that it has a hierarchical structure, meaning that there is a root node with child nodes, each of which may have their own child nodes, and so on. The edges represent the parent-child relationships between the nodes. \n",
    "\n",
    "**Graph vs. Tree:** The main difference between a tree and a graph is that a tree has a hierarchical structure with a root node and child nodes, while a graph can have any arrangement of nodes and edges. A search tree is a specific type of tree data structure used for searching and traversing elements, while a graph can be used for many different purposes.\n",
    "\n",
    "**Search Tree:** A search tree is a specific type of tree data structure used for searching and traversing elements. In a search tree, the arrangement of nodes is based on some specific rules, such as the values of the elements being stored. The nodes are arranged in a way that allows for efficient searching and traversing of elements. Some examples of search trees include binary search trees, AVL trees, and others. \n",
    "\n",
    "The most common type of search tree is the binary search tree, where each node has at most two children. The elements in a binary search tree are ordered in such a way that for each node, all elements in the left subtree are smaller than the node, and all elements in the right subtree are greater than the node.\n",
    "\n",
    "The basic properties of search trees include:\n",
    "\n",
    "- Search time: Search trees allow for efficient searching of elements, with an average time complexity of `O(log n)`, where n is the number of nodes in the tree.\n",
    "- Space complexity: Search trees require less memory compared to other data structures like arrays or linked lists, as they store elements in a hierarchical manner.\n",
    "- Insertion and deletion: Search trees allow for efficient insertion and deletion of elements, with an average time complexity of `O(log n)`.\n",
    "- Ordering: Search trees maintain the order of elements, making it possible to traverse the elements in sorted order.\n",
    "- Balancing: Some search trees, such as AVL trees and red-black trees, are self-balancing, meaning they maintain a balance in the tree even after multiple insertions and deletions. This ensures that the search tree remains efficient even with large numbers of elements.\n",
    "\n",
    "These properties make search trees a useful data structure for various applications, such as database indexing, computer graphics, and algorithms for sorting and searching elements.\n",
    "\n",
    "**Note:** \"Search tree\" and \"binary search tree\" are often used interchangeably to refer to the same type of data structure.\n"
   ]
  },
  {
   "attachments": {},
   "cell_type": "markdown",
   "metadata": {},
   "source": [
    "# 1. DFS/BFS Tree Traversals\n",
    "DFS (Depth-First Search) and BFS (Breadth-First Search) are algorithms for traversing and searching a graph or tree data structure.\n",
    "\n",
    "DFS is a recursive algorithm that starts at the root node and explores as far as possible along each branch before backtracking. The algorithm visits all the vertices of a graph or all the nodes of a tree by going deep into the structure before backtracking.\n",
    "\n",
    "BFS, on the other hand, is an iterative algorithm that visits all the vertices of a graph or all the nodes of a tree in a breadth-wise manner. It visits all the vertices at the same level before moving on to the vertices at the next level. BFS uses a queue to keep track of the vertices to be visited next.\n",
    "\n",
    "                     1\n",
    "                   /   \\\n",
    "                  2     3\n",
    "                /   \\  \n",
    "              4      5 \n",
    "\n",
    "\n",
    "1. Depth First Search (DFS) Traversals: \n",
    "  1. Inorder (Left, Root, Right) : 4 2 5 1 3 \n",
    "  2.  Preorder (Root, Left, Right) : 1 2 4 5 3 \n",
    "  3.  Postorder (Left, Right, Root) : 4 5 2 3 1\n",
    "2. Breadth-First Search (BFS) or Level Order Traversal: 1 2 3 4 5 \n",
    "\n",
    "\n",
    "Time and space complexity: \n",
    "\n",
    "- DFS: The space complexity of the function is `O(h)`, where h is the height of the binary tree. This is because the function uses a recursive approach to traverse the binary tree, and at each recursion, a new function call is added to the call stack. The maximum number of function calls in the call stack would be equal to the height of the binary tree, so the space complexity is `O(h)`. In the worst case, when the binary tree is a skewed tree, the height of the tree would be equal to the number of nodes in the tree, so the space complexity would be `O(n)`. The time complexity is technically `O(V + E)` where `V` is vortex and `E` is edge, but that equates to `O(n + (n-1)) = O(n)` in binary search tree. This is because all trees have n - 1 edges, n being the number of nodes\n",
    "\n",
    "- BFS: The space complexity of the BFS algorithm for a tree is also O(n), because in the worst case, all the nodes in the tree need to be stored in a queue to be processed in order. The size of the queue can grow up to n nodes, so the space complexity is O(n).\n",
    "\n",
    "\n",
    "Let's first create a class of tree to test algorithms:"
   ]
  },
  {
   "cell_type": "code",
   "execution_count": 47,
   "metadata": {},
   "outputs": [],
   "source": [
    "class TreeNode:\n",
    "    def __init__(self, value, left=None, right=None):\n",
    "        self.value = value\n",
    "        self.left = left\n",
    "        self.right = right\n",
    "\n",
    "class Tree:\n",
    "    def __init__(self, root=None):\n",
    "        self.root = root"
   ]
  },
  {
   "attachments": {},
   "cell_type": "markdown",
   "metadata": {},
   "source": [
    "The TreeNode class represents a node in a tree data structure. It has three instance variables: `value`, `left`, and `right`. `value` represents the value stored in the node, `left` is a reference to the left child node, and `right` is a reference to the right child node. The `__init__` method is a constructor that is called when a new TreeNode object is created. The `__init__` method takes in three arguments: `value`, `left`, and `right`. It sets the instance variables `value`, `left`, and `right` to the corresponding arguments. If `left` or `right` is not passed as an argument, it defaults to `None`.\n",
    "\n",
    "The Tree class represents a tree data structure. It has one instance variable: `root`. `root` is a reference to the `root` node of the tree. The `__init__` method is a constructor that is called when a new Tree object is created. The `__init__` method takes in one argument: `root`. It sets the instance variable root to the corresponding argument. If `root` is not passed as an argument, it defaults to `None`.\n",
    "\n",
    "Let's create the above tree:"
   ]
  },
  {
   "cell_type": "code",
   "execution_count": 48,
   "metadata": {},
   "outputs": [],
   "source": [
    "tree = Tree(TreeNode(1, TreeNode(2, TreeNode(4), TreeNode(5)), TreeNode(3)))\n"
   ]
  },
  {
   "attachments": {},
   "cell_type": "markdown",
   "metadata": {},
   "source": [
    "### 1.1. Algorithms for Binary Tree"
   ]
  },
  {
   "attachments": {},
   "cell_type": "markdown",
   "metadata": {},
   "source": [
    "#### DFS: In-order"
   ]
  },
  {
   "cell_type": "code",
   "execution_count": 49,
   "metadata": {},
   "outputs": [],
   "source": [
    "def in_order_traverse(tree, array):\n",
    "    if tree is not None:\n",
    "        in_order_traverse(tree.left, array)\n",
    "        array.append(tree.value)\n",
    "        in_order_traverse(tree.right, array)\n",
    "\n",
    "    return array"
   ]
  },
  {
   "attachments": {},
   "cell_type": "markdown",
   "metadata": {},
   "source": [
    "**Explanation:**\n",
    "\n",
    "The function uses a recursive approach to traverse the binary tree in-order. An in-order traversal of a binary tree visits the left subtree, then the current node, and then the right subtree. If the current node (tree) is not None, the following steps are performed:\n",
    "\n",
    "1. The function calls itself recursively on the left child node of the current node (`in_order_traverse(tree.left, array)`).\n",
    "2. The value of the current node (`tree.value`) is appended to the array list.\n",
    "3. The function calls itself recursively on the right child node of the current node (`in_order_traverse(tree.right, array)`).\n",
    "\n",
    "When the function returns from visiting all the nodes in the left and right subtrees, it returns `array`, which will contain the values of the nodes in the binary tree in the in-order order.\n",
    "\n",
    "**Test:**"
   ]
  },
  {
   "cell_type": "code",
   "execution_count": 50,
   "metadata": {},
   "outputs": [
    {
     "data": {
      "text/plain": [
       "[4, 2, 5, 1, 3]"
      ]
     },
     "execution_count": 50,
     "metadata": {},
     "output_type": "execute_result"
    }
   ],
   "source": [
    "in_order_traverse(tree.root, [])"
   ]
  },
  {
   "attachments": {},
   "cell_type": "markdown",
   "metadata": {},
   "source": [
    "#### DFS: Pre-order"
   ]
  },
  {
   "cell_type": "code",
   "execution_count": 51,
   "metadata": {},
   "outputs": [],
   "source": [
    "def pre_order_traverse(tree, array):\n",
    "    if tree is not None:\n",
    "        array.append(tree.value)\n",
    "        pre_order_traverse(tree.left, array)\n",
    "        pre_order_traverse(tree.right, array)\n",
    "\n",
    "    return array"
   ]
  },
  {
   "attachments": {},
   "cell_type": "markdown",
   "metadata": {},
   "source": [
    "**Explanation:**\n",
    "\n",
    "The function uses a recursive approach to traverse the tree. If the current node (tree) is not None, the following steps are performed:\n",
    "\n",
    "1. The value of the current node (`tree.value`) is appended to the array list.\n",
    "2. The function calls itself recursively on the left child node of the current node (`pre_order_traverse(tree.left, array)`).\n",
    "3. The function calls itself recursively on the right child node of the current node (`pre_order_traverse(tree.right, array)`).\n",
    "\n",
    "When the function returns from visiting all the nodes in the left and right subtrees, it returns `array`, which will contain the values of the nodes in the binary tree in the in-order order.\n",
    "\n",
    "**Test:**"
   ]
  },
  {
   "cell_type": "code",
   "execution_count": 52,
   "metadata": {},
   "outputs": [
    {
     "data": {
      "text/plain": [
       "[1, 2, 4, 5, 3]"
      ]
     },
     "execution_count": 52,
     "metadata": {},
     "output_type": "execute_result"
    }
   ],
   "source": [
    "pre_order_traverse(tree.root, [])"
   ]
  },
  {
   "attachments": {},
   "cell_type": "markdown",
   "metadata": {},
   "source": [
    "#### DFS: Post-order"
   ]
  },
  {
   "cell_type": "code",
   "execution_count": 53,
   "metadata": {},
   "outputs": [],
   "source": [
    "def post_order_traverse(tree, array):\n",
    "    if tree is not None:\n",
    "        post_order_traverse(tree.left, array)\n",
    "        post_order_traverse(tree.right, array)\n",
    "        array.append(tree.value)\n",
    "\n",
    "    return array"
   ]
  },
  {
   "attachments": {},
   "cell_type": "markdown",
   "metadata": {},
   "source": [
    "**Explanation:**\n",
    "\n",
    "The function uses a recursive approach to traverse the tree. If the current node (tree) is not None, the following steps are performed:\n",
    "\n",
    "1. The function calls itself recursively on the left child node of the current node (`post_order_traverse(tree.left, array)`).\n",
    "2. The function calls itself recursively on the right child node of the current node (`post_order_traverse(tree.right, array)`).\n",
    "3. The value of the current node (`tree.value`) is appended to the array list.\n",
    "\n",
    "When the function returns from visiting all the nodes in the left and right subtrees, it returns `array`, which will contain the values of the nodes in the binary tree in the in-order order.\n",
    "\n",
    "**Test:**"
   ]
  },
  {
   "cell_type": "code",
   "execution_count": 54,
   "metadata": {},
   "outputs": [
    {
     "data": {
      "text/plain": [
       "[4, 5, 2, 3, 1]"
      ]
     },
     "execution_count": 54,
     "metadata": {},
     "output_type": "execute_result"
    }
   ],
   "source": [
    "post_order_traverse(tree.root, [])"
   ]
  },
  {
   "attachments": {},
   "cell_type": "markdown",
   "metadata": {},
   "source": [
    "#### BFS"
   ]
  },
  {
   "cell_type": "code",
   "execution_count": 61,
   "metadata": {},
   "outputs": [],
   "source": [
    "def bfs(tree, array):\n",
    "      queue = [tree]\n",
    "      array = []\n",
    "\n",
    "      while len(queue) > 0:\n",
    "          current = queue.pop(0)\n",
    "          array.append(current.value)\n",
    "\n",
    "          if current.left:\n",
    "            queue.append(current.left)\n",
    "          if current.right:\n",
    "            queue.append(current.right)\n",
    "      return array"
   ]
  },
  {
   "attachments": {},
   "cell_type": "markdown",
   "metadata": {},
   "source": [
    "**Explanation:**\n",
    "\n",
    "The algorithm starts by initializing an empty queue and an array, and adding the root node of the tree to the queue. Then, it enters a while loop that continues as long as there are nodes in the queue.\n",
    "\n",
    "In each iteration of the while loop, the first node in the queue (the node at the front of the queue) is removed and its value is appended to the array. If the current node has a left child, it is added to the end of the queue. Similarly, if the current node has a right child, it is also added to the end of the queue.\n",
    "\n",
    "Once all nodes have been processed, the final array that contains the values of the nodes in breadth-first order is returned.\n",
    "\n",
    "**Test:**"
   ]
  },
  {
   "cell_type": "code",
   "execution_count": 62,
   "metadata": {},
   "outputs": [
    {
     "data": {
      "text/plain": [
       "[1, 2, 3, 4, 5]"
      ]
     },
     "execution_count": 62,
     "metadata": {},
     "output_type": "execute_result"
    }
   ],
   "source": [
    "bfs(tree.root, [])"
   ]
  },
  {
   "attachments": {},
   "cell_type": "markdown",
   "metadata": {},
   "source": [
    "### 1.2. Algorithms for N-array Tree"
   ]
  },
  {
   "cell_type": "code",
   "execution_count": null,
   "metadata": {},
   "outputs": [],
   "source": [
    "def pre_order_traverse_n_arr(tree, array):\n",
    "    if tree is not None:\n",
    "      for child in tree.children:\n",
    "        array.append(child.value)\n",
    "        pre_order_traverse_n_arr(child, array)\n",
    "    return array\n",
    "\n",
    "#------------------------------------------------------\n",
    "def post_order_traverse_n_arr(tree, array):\n",
    "    if tree is not None:\n",
    "      for child in tree.children:\n",
    "        post_order_traverse_n_arr(child, array)\n",
    "        array.append(child.value)\n",
    "    return array\n",
    " \n",
    "#------------------------------------------------------\n",
    "def bfs_n_arr(tree, array):\n",
    "      queue = [tree.value]\n",
    "      array = []\n",
    "\n",
    "      while len(queue) > 0:\n",
    "          current = queue.pop(0)\n",
    "          array.append(current.name)\n",
    "\n",
    "          for child in current.children:\n",
    "              queue.append(child)\n",
    "      return array"
   ]
  },
  {
   "attachments": {},
   "cell_type": "markdown",
   "metadata": {},
   "source": [
    "**Explanation:**\n",
    "\n",
    "The main difference is that instead of checking left and right, it checks all of child of children. If the given tree node is not None, the function iterates through its children and appends the value of each child node to the array."
   ]
  },
  {
   "attachments": {},
   "cell_type": "markdown",
   "metadata": {},
   "source": [
    "### 1.3. Algorithms for Graph"
   ]
  },
  {
   "attachments": {},
   "cell_type": "markdown",
   "metadata": {},
   "source": [
    "The time complexity of the DFS algorithm in a graph is `O(V + E)`, where `V` is the number of vertices and `E` is the number of edges. This is because the algorithm visits every vertex and edge once.\n",
    "\n",
    "The space complexity of the DFS algorithm is `O(V)`, where `V` is the number of vertices. This is because the algorithm uses a stack to keep track of the vertices that need to be visited, and the maximum size of the stack is equal to the number of vertices.\n",
    "\n",
    "The time complexity of the BFS algorithm in a graph is `O(V + E)`, where `V` is the number of vertices and E is the number of edges. This is because the algorithm visits every vertex and edge once.\n",
    "\n",
    "The space complexity of the BFS algorithm is `O(V)`, where `V` is the number of vertices. This is because the algorithm uses a queue to keep track of the vertices that need to be visited, and the maximum size of the queue is equal to the number of vertices."
   ]
  },
  {
   "attachments": {},
   "cell_type": "markdown",
   "metadata": {},
   "source": [
    "#### DFS"
   ]
  },
  {
   "cell_type": "code",
   "execution_count": 63,
   "metadata": {},
   "outputs": [],
   "source": [
    "def dfs(graph, node, visited):\n",
    "    if node not in visited:\n",
    "        visited.append(node)\n",
    "        for neighbor in graph[node]:\n",
    "            dfs(graph, neighbor, visited)\n",
    "    return visited\n"
   ]
  },
  {
   "attachments": {},
   "cell_type": "markdown",
   "metadata": {},
   "source": [
    "**Explanation:**\n",
    "\n",
    "- If the current node has not been visited, it is added to the visited list.\n",
    "- The algorithm then iterates over the neighbors of the current node and calls the function recursively on each neighbor.\n",
    "- This process continues until all nodes connected to the starting node have been visited.\n",
    "- Finally, the visited list is returned, which represents the nodes visited in a DFS order.\n",
    "\n",
    "**Test:**"
   ]
  },
  {
   "cell_type": "code",
   "execution_count": 64,
   "metadata": {},
   "outputs": [
    {
     "name": "stdout",
     "output_type": "stream",
     "text": [
      "['A', 'B', 'D', 'E', 'F', 'C']\n"
     ]
    }
   ],
   "source": [
    "graph = {\n",
    "    'A': ['B', 'C'],\n",
    "    'B': ['A', 'D', 'E'],\n",
    "    'C': ['A', 'F'],\n",
    "    'D': ['B'],\n",
    "    'E': ['B', 'F'],\n",
    "    'F': ['C', 'E']\n",
    "}\n",
    "visited_dfs = dfs(graph, 'A', [])\n",
    "print(visited_dfs)"
   ]
  },
  {
   "attachments": {},
   "cell_type": "markdown",
   "metadata": {},
   "source": [
    "#### BFS"
   ]
  },
  {
   "cell_type": "code",
   "execution_count": 65,
   "metadata": {},
   "outputs": [],
   "source": [
    "def bfs(graph, start_node):\n",
    "    visited = []\n",
    "    queue = [start_node]\n",
    "    while queue:\n",
    "        node = queue.pop(0)\n",
    "        if node not in visited:\n",
    "            visited.append(node)\n",
    "            neighbors = graph[node]\n",
    "            for neighbor in neighbors:\n",
    "                queue.append(neighbor)\n",
    "    return visited"
   ]
  },
  {
   "attachments": {},
   "cell_type": "markdown",
   "metadata": {},
   "source": [
    "**Explanation:**\n",
    "\n",
    "The algorithm starts with a given start_node, adds it to an initially empty queue, and adds it to the visited list to mark it as visited.\n",
    "\n",
    "In each iteration of the while loop, it takes the first node from the queue, adds its unvisited neighbors to the end of the queue and marks the node as visited by adding it to the visited list.\n",
    "\n",
    "The algorithm terminates when the queue is empty, and returns the visited list, which contains all the nodes visited in the order they were visited using the BFS algorithm. \n",
    "\n",
    "**Test:**"
   ]
  },
  {
   "cell_type": "code",
   "execution_count": 67,
   "metadata": {},
   "outputs": [
    {
     "name": "stdout",
     "output_type": "stream",
     "text": [
      "['A', 'B', 'C', 'D', 'E', 'F']\n"
     ]
    }
   ],
   "source": [
    "visited_bfs = bfs(graph, 'A')\n",
    "print(visited_bfs)"
   ]
  },
  {
   "attachments": {},
   "cell_type": "markdown",
   "metadata": {},
   "source": [
    "Note that the above code traverses only the vertices reachable from a given source vertex. In every situation, all the vertices may not be reachable from a given vertex (i.e. for a disconnected graph). \n",
    "\n",
    "We can modify the BFS function to do traversal starting from all nodes one by one "
   ]
  },
  {
   "cell_type": "code",
   "execution_count": 68,
   "metadata": {},
   "outputs": [],
   "source": [
    "def bfs_disconnected_graph(graph):\n",
    "    visited = []\n",
    "    for node in graph:\n",
    "        if node not in visited:\n",
    "            queue = [node]\n",
    "            while queue:\n",
    "                curr_node = queue.pop(0)\n",
    "                if curr_node not in visited:\n",
    "                    visited.append(curr_node)\n",
    "                    for neighbor in graph[curr_node]:\n",
    "                        queue.append(neighbor)\n",
    "    return visited"
   ]
  },
  {
   "cell_type": "code",
   "execution_count": 75,
   "metadata": {},
   "outputs": [
    {
     "name": "stdout",
     "output_type": "stream",
     "text": [
      "Old function:  ['A', 'B', 'C', 'D', 'E', 'F']\n",
      "Modified function function:  ['A', 'B', 'C', 'D', 'E', 'F', 'G', 'H']\n"
     ]
    }
   ],
   "source": [
    "disconnected_graph = {\n",
    "    'A': ['B', 'C'],\n",
    "    'B': ['A', 'D', 'E'],\n",
    "    'C': ['A', 'F'],\n",
    "    'D': ['B'],\n",
    "    'E': ['B', 'F'],\n",
    "    'F': ['C', 'E'],\n",
    "    'G' : ['H'],\n",
    "    'H' : ['G']\n",
    "}\n",
    "\n",
    "visited_bfs = bfs(graph, 'A')\n",
    "print(\"Old function: \", visited_bfs)\n",
    "\n",
    "visited_dfs = bfs_disconnected_graph(disconnected_graph)\n",
    "print(\"Modified function function: \", visited_dfs)"
   ]
  },
  {
   "attachments": {},
   "cell_type": "markdown",
   "metadata": {},
   "source": [
    "So old function cannot handle G -- H connection."
   ]
  },
  {
   "cell_type": "markdown",
   "metadata": {},
   "source": []
  }
 ],
 "metadata": {
  "kernelspec": {
   "display_name": "base",
   "language": "python",
   "name": "python3"
  },
  "language_info": {
   "codemirror_mode": {
    "name": "ipython",
    "version": 3
   },
   "file_extension": ".py",
   "mimetype": "text/x-python",
   "name": "python",
   "nbconvert_exporter": "python",
   "pygments_lexer": "ipython3",
   "version": "3.8.8"
  },
  "orig_nbformat": 4,
  "vscode": {
   "interpreter": {
    "hash": "05655b172e02d0543f4689a9fd02cca4a7857b55ad1449565d55716c4230d5c1"
   }
  }
 },
 "nbformat": 4,
 "nbformat_minor": 2
}
