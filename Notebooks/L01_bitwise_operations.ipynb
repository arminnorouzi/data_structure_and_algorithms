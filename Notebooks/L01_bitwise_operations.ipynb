{
 "cells": [
  {
   "attachments": {},
   "cell_type": "markdown",
   "metadata": {},
   "source": [
    "# Bitwise Algorithms\n",
    "\n",
    "In this notebook, we will examine numerous bitwise algorithms and how they are used in software engineering and computer science. We will go over the key ideas and methods that each software engineer should be familiar with, from bit manipulation techniques to optimization tactics. Prepare yourself to enter the realm of bits and bytes! You can run this post in Google Colab using this link:\n",
    "\n",
    "<a href=\"https://github.com/arminnorouzi/data_structure_and_algorithms/blob/main/Notebooks/L01_bitwise_operations.ipynb\" target=\"_parent\"><img src=\"https://colab.research.google.com/assets/colab-badge.svg\" alt=\"Open In Colab\"/></a>"
   ]
  },
  {
   "attachments": {},
   "cell_type": "markdown",
   "metadata": {},
   "source": [
    "## Bitwise operations in Python \n",
    "\n",
    "Bitwise operations are a group of elementary operations that deal with a binary number's constituent bits. These operations include left shift, right shift, bitwise AND, OR, XOR, and NOT. These operations are used to efficiently manipulate bits at the bit level and can be applied to tasks like determining whether a particular bit is set or clearing a particular bit. Bitwise operations are particularly useful in low-level languages such as C and C++, but are also available in high-level languages such as Python. Here is the operator of bit manipulation in Python:\n",
    "\n",
    "\n",
    "| OPERATOR | DESCRIPTION       | RETURNS |\n",
    "| -------  | ----------- | ------------|\n",
    "| &        | Bitwise AND | Returns 1 if both the bits are 1 else 0 \n",
    "|  <code> &#124; </code>      | Bitwise OR  | Returns 1 if either of the bit is 1 else 0 \n",
    "| ~        | Bitwise NOT | Returns one’s complement of the number\n",
    "| ^        | Bitwise XOR | Returns 1 if one of the bits is 1 and the other is 0 else returns 0\n",
    "| >>       | Bitwise right shift | Returns 1 if both the bits are 1 else 0 \n",
    "| <<       | Bitwise left shift | Returns 1 if both the bits are 1 else 0  \n",
    "\n",
    "* Bitwise AND:\n",
    "\n",
    "`10 (Binary: 1010) & 4 (Binary: 0100) = 0 (Binary: 0000)`\n",
    "\n",
    "* Bitwise OR:\n",
    "\n",
    "`10 (Binary: 1010) | 4 (Binary: 0100) = 14 (Binary: 1110)`\n",
    "\n",
    "* Bitwise NOT:\n",
    "\n",
    "`~10 (Binary: 1010) = -(1010 + 1) = 11 (Binary: 1011)`\n",
    "\n",
    "* Bitwise XOR:\n",
    "\n",
    "`10 (Binary: 1010) ^ 4 (Binary: 0100) = 14 (Binary: 1110)`\n",
    "\n",
    "* Bitwise right shift: \n",
    "\n",
    "Shifts the bits of the number to the right and fills 0 on voids left( fills 1 in the case of a negative number) as a result. Similar effect as of dividing the number with some power of two.\n",
    "\n",
    "`10 (Binary: 00001010) >> 1 =  5 (Binary: 000001010)`\n",
    "\n",
    "`-10 (Binary: 11110110) >> 1 =  -5 (Binary: 11111011)`\n",
    "\n",
    "\n",
    "* Bitwise left shift: \n",
    "\n",
    "Shifts the bits of the number to the left and fills 0 on voids right as a result. Similar effect as of multiplying the number with some power of two.\n",
    "\n",
    "`5 (Binary: 00000101) << 1 =  10 (Binary: 00001010)`\n",
    "\n",
    "`5 (Binary: 00000101) << 2 =  20 (Binary: 00010100)`\n",
    "\n",
    "\n"
   ]
  },
  {
   "attachments": {},
   "cell_type": "markdown",
   "metadata": {},
   "source": [
    "## 1. Find $n^{th}$ magic number\n",
    "\n",
    "**Question**\n",
    "\n",
    "A \"magic number\" is a number that has a specific mathematical property. A magic number is defined as a number that can be expressed as a power of 5 or the sum of unique powers of 5. \n",
    "\n",
    "For example, the first few magic numbers are 5, 25, 30 (5 + 25), 125, 130 (125 + 5), and so on. The number 5 is a magic number because it is a power of 5 (5^1). The number 25 is also a magic number because it is a power of 5 (5^2). The number 30 is a magic number because it is the sum of unique powers of 5 (5^1 + 5^2). See the table for more detail. \n",
    "\n",
    "\n",
    "| N                    | DESCRIPTION       |\n",
    "| -------              | ----------- | \n",
    "| N = 1  -- > 001      | 5 = 1 * 5^1 |\n",
    "| N = 2  -- > 010      | 25 = 1 * 5^2  |\n",
    "| N = 3  -- > 011      | 30 = 1 * 5^2 + 1 * 5^1 | \n",
    "| N = 4  -- > 100      | 125 = 1 * 5^3 | \n",
    "| N = 5  -- > 101      | 130 = 1 * 5^3 + 1 * 5^1 | \n",
    "\n",
    "Write a function to find the nth Magic number.\n",
    "\n",
    "**Code**"
   ]
  },
  {
   "cell_type": "code",
   "execution_count": 1,
   "metadata": {},
   "outputs": [],
   "source": [
    "def nth_magic_number(n: int) -> int:\n",
    "    \"\"\"\n",
    "    Finds the nth magic number. A magic number is defined as a number \n",
    "    which can be expressed as a power of 5 or sum of unique powers of 5.\n",
    "    \"\"\"\n",
    "    pow_of_5 = 1\n",
    "    magic_number = 0\n",
    "\n",
    "    # Go through every bit of n\n",
    "    while n:\n",
    "        pow_of_5 *= 5\n",
    "\n",
    "         # If last bit of n is set\n",
    "        if n & 1:\n",
    "            magic_number += pow_of_5\n",
    "\n",
    "        # proceed to next bit\n",
    "        n >>= 1\n",
    "    return magic_number\n",
    "\n"
   ]
  },
  {
   "attachments": {},
   "cell_type": "markdown",
   "metadata": {},
   "source": [
    "**Explanation**\n",
    "\n",
    "The function finds the magic number by utilizing bit manipulation and a mathematical property of magic numbers.\n",
    "\n",
    "The function starts by setting two variables, `pow` and `answer` to 1. The variable `pow` is used to keep track of the current power of 5, and `answer` is used to store the final magic number.\n",
    "\n",
    "The function then enters a `while` loop that runs as long as the value of `n` is greater than 0. Inside the while loop, `pow` is multiplied by 5 on each iteration. This is done to calculate the next power of 5.\n",
    "\n",
    "If the last bit of n is set (i.e. if n & 1 evaluates to True), the current power of 5 stored in `pow` is added to the answer variable.\n",
    "\n",
    "The last step of each iteration is to proceed to the next bit of `n` by using the bitwise right shift operator `n >>= 1` (or n = n/2). This effectively divides `n` by 2 and discards the least significant bit.\n",
    "\n",
    "When the while loop finishes, the final magic number is stored in the `answer` variable, and the function returns it.\n",
    "\n",
    "The time complexity of this function is `O(log(n))` because the while loop runs for `log(n)` times. This is because for each iteration, it is checking the next bit of n, which doubles the number of bits being checked. The space complexity is `O(1)` because the function only uses a constant amount of space, regardless of the input size.\n",
    "\n",
    "**Test**"
   ]
  },
  {
   "cell_type": "code",
   "execution_count": 2,
   "metadata": {},
   "outputs": [
    {
     "name": "stderr",
     "output_type": "stream",
     "text": [
      "test_nth_magic_number (__main__.TestNthMagicNumber) ... ok\n",
      "\n",
      "----------------------------------------------------------------------\n",
      "Ran 1 test in 0.002s\n",
      "\n",
      "OK\n"
     ]
    }
   ],
   "source": [
    "import unittest\n",
    "\n",
    "class TestNthMagicNumber(unittest.TestCase):\n",
    "\n",
    "    def test_nth_magic_number(self):\n",
    "        self.assertEqual(nth_magic_number(1), 5)\n",
    "        self.assertEqual(nth_magic_number(2), 25)\n",
    "        self.assertEqual(nth_magic_number(3), 30)\n",
    "        self.assertEqual(nth_magic_number(4), 125)\n",
    "        self.assertEqual(nth_magic_number(5), 130)\n",
    "\n",
    "res = unittest.main(argv=[''], verbosity=3, exit=False)\n",
    "assert len(res.result.failures) == 0"
   ]
  },
  {
   "attachments": {},
   "cell_type": "markdown",
   "metadata": {},
   "source": [
    "## 2. Swap all odd and even bits\n",
    "\n",
    "Given an unsigned integer N. The task is to swap all odd bits with adjacent even bits.\n",
    "\n",
    "Examples: \n",
    "\n",
    "- Input: 23\n",
    "- Output: 43\n",
    "    - Explanation: 23 (`00010111`) should be converted to 43 (`00101011`)\n",
    "\n",
    "**Code**"
   ]
  },
  {
   "cell_type": "code",
   "execution_count": 3,
   "metadata": {},
   "outputs": [],
   "source": [
    "def swap_bits(x: int) -> int:\n",
    "    \"\"\"\n",
    "    Swaps the even and odd bits of a given number.\n",
    "    \"\"\"\n",
    "    # Get all even bits of x\n",
    "    even_bits = x & 0xAAAAAAAA\n",
    "    # Get all odd bits of x\n",
    "    odd_bits = x & 0x55555555\n",
    "    # Right shift even bits\n",
    "    even_bits >>= 1\n",
    "    # Left shift odd bits\n",
    "    odd_bits <<= 1\n",
    "    # Combine even and odd bits\n",
    "    return (even_bits | odd_bits)"
   ]
  },
  {
   "attachments": {},
   "cell_type": "markdown",
   "metadata": {},
   "source": [
    "**Explanation**\n",
    "\n",
    "The above code is a Python function that takes an integer `x` as input and returns an integer that is obtained by swapping the even and odd bits of the input number `x`.\n",
    "\n",
    "The function starts by using bitwise AND operator `&` to extract the even bits and the odd bits of the input number `x`. It creates two 32-bit numbers, `0xAAAAAAAA` and `0x55555555`, to represent all even bits set as 1 and all odd bits set as 0 and vice-versa.\n",
    "\n",
    "It then uses the bitwise AND operator `&` with the input number `x` to extract the even and odd bits respectively.\n",
    "\n",
    "Next, the function uses the right shift operator `>>=` to shift the even bits to the right by one position, effectively swapping the even bits with their next odd bit. Similarly, it uses the left shift operator `<<=` to shift the odd bits to the left by one position, effectively swapping the odd bits with their next even bit.\n",
    "\n",
    "Finally, the function uses the bitwise OR operator `|` to combine the even bits and the odd bits and returns the resulting integer.\n",
    "\n",
    "This function can be used to swap the even and odd bits of any 32-bit integer, while keeping the time and space complexity of the function `O(1)`\n",
    "\n",
    "**Test**"
   ]
  },
  {
   "cell_type": "code",
   "execution_count": 4,
   "metadata": {},
   "outputs": [
    {
     "name": "stderr",
     "output_type": "stream",
     "text": [
      "test_nth_magic_number (__main__.TestNthMagicNumber) ... ok\n",
      "test_swap_bits (__main__.TestSwapBits) ... ok\n",
      "\n",
      "----------------------------------------------------------------------\n",
      "Ran 2 tests in 0.004s\n",
      "\n",
      "OK\n"
     ]
    }
   ],
   "source": [
    "class TestSwapBits(unittest.TestCase):\n",
    "    def test_swap_bits(self):\n",
    "        self.assertEqual(swap_bits(23), 43)\n",
    "\n",
    "res = unittest.main(argv=[''], verbosity=3, exit=False)\n",
    "assert len(res.result.failures) == 0"
   ]
  },
  {
   "attachments": {},
   "cell_type": "markdown",
   "metadata": {},
   "source": [
    "`even_bite: 23 = 00010111`\n",
    "\n",
    "`23 &  0xAAAAAAAA: 00010111  & 10101010 = 00000010 ---> 2`\n",
    "\n",
    "`even_bits >>= 1: = 00000001 ---> 1`\n",
    "\n",
    "`odd_bits:  23 &  0x55555555: 00010111 & 01010101 = 00010101 ---> 21`\n",
    "\n",
    "`odd_bits <<= 1: = 00101010 ---> 42`\n",
    "\n",
    "`return:   00000001 | 00101010 = 00101011 ---> 43`"
   ]
  },
  {
   "attachments": {},
   "cell_type": "markdown",
   "metadata": {},
   "source": [
    "## 3. Binary representation of a given number\n",
    "\n",
    "**Question**\n",
    "\n",
    "Binary representation of a given number is a way to represent a decimal number (base 10) in the binary system (base 2). In the binary system, only two digits are used: 0 and 1. Each digit in a binary number represents a power of 2, with the rightmost digit representing 2^0 (1) and each digit to the left representing the next power of 2.\n",
    "\n",
    "For example, the decimal number 8 can be represented in binary as 1000. This is because 8 = 12^3. Similarly, the decimal number 11 can be represented in binary as 1011. This is because 11 = 12^3 + 02^2 + 12^1 + 1*2^0.\n",
    "\n",
    "Write a function to return binary representation of a number\n",
    "\n",
    "**Code**"
   ]
  },
  {
   "cell_type": "code",
   "execution_count": 5,
   "metadata": {},
   "outputs": [],
   "source": [
    "def dec_to_bin(n: int) -> str:\n",
    "    \"\"\"\n",
    "    Convert decimal number to binary representation.\n",
    "    \"\"\"\n",
    "    result = []\n",
    "\n",
    "    # Start from 31th bite by shifting one to\n",
    "    i = 1 << 31\n",
    "    while i > 0:\n",
    "\n",
    "        # check whether 31th bit is ON or OFF, if it is ON print “1” else print “0”\n",
    "        # if  n & i >= 1 means 31th bit is ON (1) else 0th bit is OFF\n",
    "        if n & i >= 1:\n",
    "            result.append(\"1\")\n",
    "        else:\n",
    "            result.append(\"0\")\n",
    "        \n",
    "        # Go to 30th bit and keep while loop until i == 0\n",
    "        i = i // 2\n",
    "    return \"\".join(result)\n"
   ]
  },
  {
   "attachments": {},
   "cell_type": "markdown",
   "metadata": {},
   "source": [
    "**Explanation**\n",
    "\n",
    "The above code defines a function `dec_to_bin(n: int) -> str` that converts a decimal number to its binary representation. The function takes a single argument n which is an integer, and returns a string containing the binary representation of the input number.\n",
    "\n",
    "The function starts by initializing an empty list called result and a variable i as `1 << 31`. The variable `i` is used to check each bit of the decimal number, starting from the leftmost (most significant) bit. The left shift operator `<<` is used to shift the value of 1 to the 31th position (i = 10000000000000000000000000000000 in binary) so that it can be used to check the 31th bit of the decimal number.\n",
    "\n",
    "The function then enters a while loop which will continue until i becomes 0. Inside the while loop, the function uses the bitwise operator `&` to check whether the 31th bit of the decimal number is ON or OFF. The expression `n & i >= 1` checks whether the result of the bitwise `&` operator is greater than or equal to 1, which means that the 31th bit is ON. If the condition is true, the function appends \"1\" to the result list. If the condition is false, the function appends \"0\" to the result list instead.\n",
    "\n",
    "After that, the function divides `i` by 2 using `i = i // 2` to move to the next bit (30th bit) and continues the loop until `i` becomes `0`.\n",
    "\n",
    "Finally, the function uses the `join()` method to join all the elements of the result list and return a string containing the binary representation of the input number.\n",
    "\n",
    "The time complexity is `O(log(n))`, where `n` is the decimal number being converted. This is because the while loop iterates `log2(n)` times.\n",
    "\n",
    "In each iteration, the function performs a bitwise operation and a comparison operation, both of which have a constant time complexity of O(1). Therefore, the overall time complexity is `O(log(n))`.\n",
    "\n",
    "The space complexity is `O(log(n))` as well, as it creates a list of size log2(n) to store the binary digits of the input number. The space complexity of creating the list is `O(log(n))`.\n",
    "\n",
    "**Test**"
   ]
  },
  {
   "cell_type": "code",
   "execution_count": 6,
   "metadata": {},
   "outputs": [
    {
     "name": "stderr",
     "output_type": "stream",
     "text": [
      "test_decToBin (__main__.TestDecToBin) ... ok\n",
      "test_decToBin_negative (__main__.TestDecToBin) ... ok\n",
      "test_nth_magic_number (__main__.TestNthMagicNumber) ... ok\n",
      "test_swap_bits (__main__.TestSwapBits) ... ok\n",
      "\n",
      "----------------------------------------------------------------------\n",
      "Ran 4 tests in 0.006s\n",
      "\n",
      "OK\n"
     ]
    }
   ],
   "source": [
    "\n",
    "class TestDecToBin(unittest.TestCase):\n",
    "    def test_decToBin(self):\n",
    "        self.assertEqual(dec_to_bin(5), \"00000000000000000000000000000101\")\n",
    "        self.assertEqual(dec_to_bin(10), \"00000000000000000000000000001010\")\n",
    "        self.assertEqual(dec_to_bin(100), \"00000000000000000000000001100100\")\n",
    "        self.assertEqual(dec_to_bin(255), \"00000000000000000000000011111111\")\n",
    "        self.assertEqual(dec_to_bin(0), \"00000000000000000000000000000000\")\n",
    "        \n",
    "    def test_decToBin_negative(self):\n",
    "        self.assertEqual(dec_to_bin(-5), \"11111111111111111111111111111011\")\n",
    "        self.assertEqual(dec_to_bin(-10), \"11111111111111111111111111110110\")\n",
    "\n",
    "res = unittest.main(argv=[''], verbosity=3, exit=False)\n",
    "assert len(res.result.failures) == 0"
   ]
  },
  {
   "attachments": {},
   "cell_type": "markdown",
   "metadata": {},
   "source": [
    "## 4. Count number of bits to be flipped to convert a to b\n",
    "\n",
    "**Question**\n",
    "\n",
    "Given two numbers A and B. Write a program to count the number of bits needed to be flipped to convert A to B. \n",
    "\n",
    "\n",
    "- Input: a = 10 b = 20\n",
    "- output: 4\n",
    "\n",
    "    - Binary representation of a is `00001010`\n",
    "    - Binary representation of b is `00010100`\n",
    "    - We need to flip \"0101\" bits in a to make it b so we need to change 4 bits\n",
    "\n",
    "\n"
   ]
  },
  {
   "cell_type": "code",
   "execution_count": 7,
   "metadata": {},
   "outputs": [],
   "source": [
    "def count_bits(a: int, b: int) -> int:\n",
    "    \"\"\"\n",
    "    Count the number of bits that are different between two integers.\n",
    "\n",
    "    :param a: an integer\n",
    "    :param b: another integer\n",
    "    :return: the number of bits that differ between the two integers\n",
    "    \"\"\"\n",
    "    xor_result = a ^ b\n",
    "    count = 0\n",
    "    while xor_result:\n",
    "        count += xor_result & 1\n",
    "        xor_result >>= 1\n",
    "    return count\n",
    "\n"
   ]
  },
  {
   "attachments": {},
   "cell_type": "markdown",
   "metadata": {},
   "source": [
    "**Explanation**\n",
    "\n",
    "The function starts by calculating the bitwise XOR of a and b using the `^` operator. This operation compares each bit of the two numbers and if the bits are different, the corresponding bit in the result is set to `1`, otherwise it is set to `0`. For example, if a is `5` (binary: `101`) and b is `3` (binary: `011`), the XOR result will be 6 (binary: `110`).\n",
    "\n",
    "The function then initializes a variable called `count` to 0. This variable will be used to keep track of the number of bits that differ between the two integers.\n",
    "\n",
    "Next, the function enters a while loop which continues until the `xor_result` is nonzero. Inside the loop, the function increments the `count` variable by `1` if the least significant bit (LSB) of the `xor_result` is 1. This can be achieved by using `xor_result & 1` to check the LSB. Then it will shift the xor_result to right by 1 bit to check the next bit.\n",
    "\n",
    "The time complexity of the above code is `O(n)`, where n is the number of bits that differ between the two integers. The while loop will continue until all the bits of the xor_result have been checked. If the two integers have k different bits, the loop will run k times, resulting in a time complexity of `O(k)`. Since `k <= n` , the time complexity is `O(n).`\n",
    "\n",
    "The space complexity of the above code is `O(1)`. The function only uses a single variable called count to keep track of the number of bits that differ between the two integers. This variable takes a constant amount of space, regardless of the size of the input integers. Therefore, the space complexity is `O(1)`.\n",
    "\n"
   ]
  },
  {
   "cell_type": "code",
   "execution_count": 8,
   "metadata": {},
   "outputs": [
    {
     "name": "stderr",
     "output_type": "stream",
     "text": [
      "test_CountBits (__main__.TestCountBits) ... ok\n",
      "test_decToBin (__main__.TestDecToBin) ... ok\n",
      "test_decToBin_negative (__main__.TestDecToBin) ... ok\n",
      "test_nth_magic_number (__main__.TestNthMagicNumber) ... ok\n",
      "test_swap_bits (__main__.TestSwapBits) ... ok\n",
      "\n",
      "----------------------------------------------------------------------\n",
      "Ran 5 tests in 0.008s\n",
      "\n",
      "OK\n"
     ]
    }
   ],
   "source": [
    "\n",
    "class TestCountBits(unittest.TestCase):\n",
    "    def test_CountBits(self):\n",
    "        self.assertEqual(count_bits(5, 3), 2)\n",
    "        self.assertEqual(count_bits(0, 0), 0)\n",
    "        self.assertEqual(count_bits(255, 0), 8)\n",
    "        self.assertEqual(count_bits(2**31-1, 2**31-1), 0)\n",
    "\n",
    "res = unittest.main(argv=[''], verbosity=3, exit=False)\n",
    "assert len(res.result.failures) == 0"
   ]
  }
 ],
 "metadata": {
  "kernelspec": {
   "display_name": "base",
   "language": "python",
   "name": "python3"
  },
  "language_info": {
   "codemirror_mode": {
    "name": "ipython",
    "version": 3
   },
   "file_extension": ".py",
   "mimetype": "text/x-python",
   "name": "python",
   "nbconvert_exporter": "python",
   "pygments_lexer": "ipython3",
   "version": "3.9.13"
  },
  "orig_nbformat": 4,
  "vscode": {
   "interpreter": {
    "hash": "05655b172e02d0543f4689a9fd02cca4a7857b55ad1449565d55716c4230d5c1"
   }
  }
 },
 "nbformat": 4,
 "nbformat_minor": 2
}
